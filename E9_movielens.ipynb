{
 "cells": [
  {
   "cell_type": "markdown",
   "id": "informal-soundtrack",
   "metadata": {},
   "source": [
    "# 프로젝트 - Movielens 영화 추천 실습"
   ]
  },
  {
   "cell_type": "markdown",
   "id": "unavailable-moment",
   "metadata": {},
   "source": [
    "## 1) 데이터 준비와 전처리"
   ]
  },
  {
   "cell_type": "code",
   "execution_count": 33,
   "id": "secret-necessity",
   "metadata": {
    "scrolled": true
   },
   "outputs": [
    {
     "data": {
      "text/html": [
       "<div>\n",
       "<style scoped>\n",
       "    .dataframe tbody tr th:only-of-type {\n",
       "        vertical-align: middle;\n",
       "    }\n",
       "\n",
       "    .dataframe tbody tr th {\n",
       "        vertical-align: top;\n",
       "    }\n",
       "\n",
       "    .dataframe thead th {\n",
       "        text-align: right;\n",
       "    }\n",
       "</style>\n",
       "<table border=\"1\" class=\"dataframe\">\n",
       "  <thead>\n",
       "    <tr style=\"text-align: right;\">\n",
       "      <th></th>\n",
       "      <th>user_id</th>\n",
       "      <th>movie_id</th>\n",
       "      <th>ratings</th>\n",
       "      <th>timestamp</th>\n",
       "    </tr>\n",
       "  </thead>\n",
       "  <tbody>\n",
       "    <tr>\n",
       "      <th>0</th>\n",
       "      <td>1</td>\n",
       "      <td>1193</td>\n",
       "      <td>5</td>\n",
       "      <td>978300760</td>\n",
       "    </tr>\n",
       "    <tr>\n",
       "      <th>1</th>\n",
       "      <td>1</td>\n",
       "      <td>661</td>\n",
       "      <td>3</td>\n",
       "      <td>978302109</td>\n",
       "    </tr>\n",
       "    <tr>\n",
       "      <th>2</th>\n",
       "      <td>1</td>\n",
       "      <td>914</td>\n",
       "      <td>3</td>\n",
       "      <td>978301968</td>\n",
       "    </tr>\n",
       "    <tr>\n",
       "      <th>3</th>\n",
       "      <td>1</td>\n",
       "      <td>3408</td>\n",
       "      <td>4</td>\n",
       "      <td>978300275</td>\n",
       "    </tr>\n",
       "    <tr>\n",
       "      <th>4</th>\n",
       "      <td>1</td>\n",
       "      <td>2355</td>\n",
       "      <td>5</td>\n",
       "      <td>978824291</td>\n",
       "    </tr>\n",
       "  </tbody>\n",
       "</table>\n",
       "</div>"
      ],
      "text/plain": [
       "   user_id  movie_id  ratings  timestamp\n",
       "0        1      1193        5  978300760\n",
       "1        1       661        3  978302109\n",
       "2        1       914        3  978301968\n",
       "3        1      3408        4  978300275\n",
       "4        1      2355        5  978824291"
      ]
     },
     "execution_count": 33,
     "metadata": {},
     "output_type": "execute_result"
    }
   ],
   "source": [
    "import pandas as pd\n",
    "import os\n",
    "rating_file_path=os.getenv('HOME') + '/aiffel/recommendata_iu/data/ml-1m/ratings.dat'\n",
    "ratings_cols = ['user_id', 'movie_id', 'ratings', 'timestamp']\n",
    "ratings = pd.read_csv(rating_file_path, sep='::', names=ratings_cols, engine='python', encoding = \"ISO-8859-1\")\n",
    "orginal_data_size = len(ratings)\n",
    "ratings.head()"
   ]
  },
  {
   "cell_type": "code",
   "execution_count": 34,
   "id": "incomplete-robert",
   "metadata": {},
   "outputs": [
    {
     "name": "stdout",
     "output_type": "stream",
     "text": [
      "orginal_data_size: 1000209, filtered_data_size: 836478\n",
      "Ratio of Remaining Data is 83.63%\n"
     ]
    }
   ],
   "source": [
    "# 3점 이상만 남깁니다.\n",
    "ratings = ratings[ratings['ratings']>=3]\n",
    "filtered_data_size = len(ratings)\n",
    "\n",
    "print(f'orginal_data_size: {orginal_data_size}, filtered_data_size: {filtered_data_size}')\n",
    "print(f'Ratio of Remaining Data is {filtered_data_size / orginal_data_size:.2%}')"
   ]
  },
  {
   "cell_type": "code",
   "execution_count": 35,
   "id": "thermal-scope",
   "metadata": {},
   "outputs": [
    {
     "data": {
      "text/plain": [
       "0          5\n",
       "1          3\n",
       "2          3\n",
       "3          4\n",
       "4          5\n",
       "          ..\n",
       "1000203    3\n",
       "1000205    5\n",
       "1000206    5\n",
       "1000207    4\n",
       "1000208    4\n",
       "Name: counts, Length: 836478, dtype: int64"
      ]
     },
     "execution_count": 35,
     "metadata": {},
     "output_type": "execute_result"
    }
   ],
   "source": [
    "# ratings 컬럼의 이름을 counts로 바꿉니다.\n",
    "ratings.rename(columns={'ratings':'counts'}, inplace=True)\n",
    "\n",
    "ratings['counts']"
   ]
  },
  {
   "cell_type": "code",
   "execution_count": 36,
   "id": "duplicate-attendance",
   "metadata": {},
   "outputs": [
    {
     "data": {
      "text/html": [
       "<div>\n",
       "<style scoped>\n",
       "    .dataframe tbody tr th:only-of-type {\n",
       "        vertical-align: middle;\n",
       "    }\n",
       "\n",
       "    .dataframe tbody tr th {\n",
       "        vertical-align: top;\n",
       "    }\n",
       "\n",
       "    .dataframe thead th {\n",
       "        text-align: right;\n",
       "    }\n",
       "</style>\n",
       "<table border=\"1\" class=\"dataframe\">\n",
       "  <thead>\n",
       "    <tr style=\"text-align: right;\">\n",
       "      <th></th>\n",
       "      <th>movie_id</th>\n",
       "      <th>title</th>\n",
       "      <th>genre</th>\n",
       "    </tr>\n",
       "  </thead>\n",
       "  <tbody>\n",
       "    <tr>\n",
       "      <th>0</th>\n",
       "      <td>1</td>\n",
       "      <td>Toy Story (1995)</td>\n",
       "      <td>Animation|Children's|Comedy</td>\n",
       "    </tr>\n",
       "    <tr>\n",
       "      <th>1</th>\n",
       "      <td>2</td>\n",
       "      <td>Jumanji (1995)</td>\n",
       "      <td>Adventure|Children's|Fantasy</td>\n",
       "    </tr>\n",
       "    <tr>\n",
       "      <th>2</th>\n",
       "      <td>3</td>\n",
       "      <td>Grumpier Old Men (1995)</td>\n",
       "      <td>Comedy|Romance</td>\n",
       "    </tr>\n",
       "    <tr>\n",
       "      <th>3</th>\n",
       "      <td>4</td>\n",
       "      <td>Waiting to Exhale (1995)</td>\n",
       "      <td>Comedy|Drama</td>\n",
       "    </tr>\n",
       "    <tr>\n",
       "      <th>4</th>\n",
       "      <td>5</td>\n",
       "      <td>Father of the Bride Part II (1995)</td>\n",
       "      <td>Comedy</td>\n",
       "    </tr>\n",
       "  </tbody>\n",
       "</table>\n",
       "</div>"
      ],
      "text/plain": [
       "   movie_id                               title                         genre\n",
       "0         1                    Toy Story (1995)   Animation|Children's|Comedy\n",
       "1         2                      Jumanji (1995)  Adventure|Children's|Fantasy\n",
       "2         3             Grumpier Old Men (1995)                Comedy|Romance\n",
       "3         4            Waiting to Exhale (1995)                  Comedy|Drama\n",
       "4         5  Father of the Bride Part II (1995)                        Comedy"
      ]
     },
     "execution_count": 36,
     "metadata": {},
     "output_type": "execute_result"
    }
   ],
   "source": [
    "# 영화 제목을 보기 위해 메타 데이터를 읽어옵니다.\n",
    "movie_file_path=os.getenv('HOME') + '/aiffel/recommendata_iu/data/ml-1m/movies.dat'\n",
    "cols = ['movie_id', 'title', 'genre'] \n",
    "movies = pd.read_csv(movie_file_path, sep='::', names=cols, engine='python', encoding='ISO-8859-1')\n",
    "movies.head()"
   ]
  },
  {
   "cell_type": "markdown",
   "id": "shaped-ground",
   "metadata": {},
   "source": [
    "## 2) 분석해 봅시다."
   ]
  },
  {
   "cell_type": "markdown",
   "id": "interstate-evaluation",
   "metadata": {},
   "source": [
    "### · ratings에 있는 유니크한 영화 개수"
   ]
  },
  {
   "cell_type": "code",
   "execution_count": 37,
   "id": "located-helmet",
   "metadata": {},
   "outputs": [
    {
     "data": {
      "text/plain": [
       "3628"
      ]
     },
     "execution_count": 37,
     "metadata": {},
     "output_type": "execute_result"
    }
   ],
   "source": [
    "ratings['movie_id'].nunique()"
   ]
  },
  {
   "cell_type": "markdown",
   "id": "alternative-atlas",
   "metadata": {},
   "source": [
    "### · ratings에 있는 유니크한 사용자 수"
   ]
  },
  {
   "cell_type": "code",
   "execution_count": 38,
   "id": "banner-begin",
   "metadata": {},
   "outputs": [
    {
     "data": {
      "text/plain": [
       "6039"
      ]
     },
     "execution_count": 38,
     "metadata": {},
     "output_type": "execute_result"
    }
   ],
   "source": [
    "ratings['user_id'].nunique()"
   ]
  },
  {
   "cell_type": "markdown",
   "id": "activated-michael",
   "metadata": {},
   "source": [
    "### · 가장 인기 있는 영화 30개(인기순)"
   ]
  },
  {
   "cell_type": "code",
   "execution_count": 74,
   "id": "dress-product",
   "metadata": {
    "scrolled": false
   },
   "outputs": [
    {
     "data": {
      "text/plain": [
       "movie_id\n",
       "2858    3211\n",
       "260     2910\n",
       "1196    2885\n",
       "1210    2716\n",
       "2028    2561\n",
       "589     2509\n",
       "593     2498\n",
       "1198    2473\n",
       "1270    2460\n",
       "2571    2434\n",
       "480     2413\n",
       "2762    2385\n",
       "608     2371\n",
       "110     2314\n",
       "1580    2297\n",
       "527     2257\n",
       "1197    2252\n",
       "2396    2213\n",
       "1617    2210\n",
       "318     2194\n",
       "858     2167\n",
       "1265    2121\n",
       "1097    2102\n",
       "2997    2066\n",
       "2716    2051\n",
       "296     2030\n",
       "356     2022\n",
       "1240    2019\n",
       "1       2000\n",
       "457     1941\n",
       "Name: user_id, dtype: int64"
      ]
     },
     "execution_count": 74,
     "metadata": {},
     "output_type": "execute_result"
    }
   ],
   "source": [
    "movie_count = ratings.groupby('movie_id')['user_id'].count()\n",
    "movie_count.sort_values(ascending=False).head(30)"
   ]
  },
  {
   "cell_type": "markdown",
   "id": "alleged-waters",
   "metadata": {},
   "source": [
    "## 3) 내가 선호하는 영화를 5가지 골라서 ratings에 추가해 줍시다."
   ]
  },
  {
   "cell_type": "code",
   "execution_count": 40,
   "id": "sunrise-audio",
   "metadata": {},
   "outputs": [
    {
     "data": {
      "text/html": [
       "<div>\n",
       "<style scoped>\n",
       "    .dataframe tbody tr th:only-of-type {\n",
       "        vertical-align: middle;\n",
       "    }\n",
       "\n",
       "    .dataframe tbody tr th {\n",
       "        vertical-align: top;\n",
       "    }\n",
       "\n",
       "    .dataframe thead th {\n",
       "        text-align: right;\n",
       "    }\n",
       "</style>\n",
       "<table border=\"1\" class=\"dataframe\">\n",
       "  <thead>\n",
       "    <tr style=\"text-align: right;\">\n",
       "      <th></th>\n",
       "      <th>user_id</th>\n",
       "      <th>movie_id</th>\n",
       "      <th>counts</th>\n",
       "      <th>timestamp</th>\n",
       "    </tr>\n",
       "  </thead>\n",
       "  <tbody>\n",
       "    <tr>\n",
       "      <th>1000203</th>\n",
       "      <td>6040</td>\n",
       "      <td>1090</td>\n",
       "      <td>3</td>\n",
       "      <td>956715518</td>\n",
       "    </tr>\n",
       "    <tr>\n",
       "      <th>1000205</th>\n",
       "      <td>6040</td>\n",
       "      <td>1094</td>\n",
       "      <td>5</td>\n",
       "      <td>956704887</td>\n",
       "    </tr>\n",
       "    <tr>\n",
       "      <th>1000206</th>\n",
       "      <td>6040</td>\n",
       "      <td>562</td>\n",
       "      <td>5</td>\n",
       "      <td>956704746</td>\n",
       "    </tr>\n",
       "    <tr>\n",
       "      <th>1000207</th>\n",
       "      <td>6040</td>\n",
       "      <td>1096</td>\n",
       "      <td>4</td>\n",
       "      <td>956715648</td>\n",
       "    </tr>\n",
       "    <tr>\n",
       "      <th>1000208</th>\n",
       "      <td>6040</td>\n",
       "      <td>1097</td>\n",
       "      <td>4</td>\n",
       "      <td>956715569</td>\n",
       "    </tr>\n",
       "    <tr>\n",
       "      <th>0</th>\n",
       "      <td>6041</td>\n",
       "      <td>2</td>\n",
       "      <td>5</td>\n",
       "      <td>0</td>\n",
       "    </tr>\n",
       "    <tr>\n",
       "      <th>1</th>\n",
       "      <td>6041</td>\n",
       "      <td>4</td>\n",
       "      <td>5</td>\n",
       "      <td>0</td>\n",
       "    </tr>\n",
       "    <tr>\n",
       "      <th>2</th>\n",
       "      <td>6041</td>\n",
       "      <td>6</td>\n",
       "      <td>5</td>\n",
       "      <td>0</td>\n",
       "    </tr>\n",
       "    <tr>\n",
       "      <th>3</th>\n",
       "      <td>6041</td>\n",
       "      <td>8</td>\n",
       "      <td>5</td>\n",
       "      <td>0</td>\n",
       "    </tr>\n",
       "    <tr>\n",
       "      <th>4</th>\n",
       "      <td>6041</td>\n",
       "      <td>10</td>\n",
       "      <td>5</td>\n",
       "      <td>0</td>\n",
       "    </tr>\n",
       "  </tbody>\n",
       "</table>\n",
       "</div>"
      ],
      "text/plain": [
       "         user_id  movie_id  counts  timestamp\n",
       "1000203     6040      1090       3  956715518\n",
       "1000205     6040      1094       5  956704887\n",
       "1000206     6040       562       5  956704746\n",
       "1000207     6040      1096       4  956715648\n",
       "1000208     6040      1097       4  956715569\n",
       "0           6041         2       5          0\n",
       "1           6041         4       5          0\n",
       "2           6041         6       5          0\n",
       "3           6041         8       5          0\n",
       "4           6041        10       5          0"
      ]
     },
     "execution_count": 40,
     "metadata": {},
     "output_type": "execute_result"
    }
   ],
   "source": [
    "my_favorite = [2, 4, 6, 8, 10]\n",
    "my_playlist = pd.DataFrame({'user_id': [6041]*5, 'movie_id': my_favorite, 'counts':5,'timestamp':0})\n",
    "ratings = ratings.append(my_playlist)                           # 위에 임의로 만든 my_favorite 데이터를 추가해 줍니다. \n",
    "\n",
    "ratings.tail(10)       # 잘 추가되었는지 확인해 봅시다."
   ]
  },
  {
   "cell_type": "code",
   "execution_count": 44,
   "id": "powered-friend",
   "metadata": {},
   "outputs": [],
   "source": [
    "user_unique = ratings['user_id'].unique()\n",
    "movie_unique = ratings['movie_id'].unique()\n",
    "\n",
    "user_to_idx = {v:k for k,v in enumerate(user_unique)}\n",
    "movie_to_idx = {v:k for k,v in enumerate(movie_unique)}"
   ]
  },
  {
   "cell_type": "markdown",
   "id": "latter-federal",
   "metadata": {},
   "source": [
    "## 4) CSR matrix를 직접 만들어 봅시다."
   ]
  },
  {
   "cell_type": "code",
   "execution_count": 48,
   "id": "dependent-fitness",
   "metadata": {
    "scrolled": true
   },
   "outputs": [
    {
     "data": {
      "text/plain": [
       "<6042x3953 sparse matrix of type '<class 'numpy.longlong'>'\n",
       "\twith 836483 stored elements in Compressed Sparse Row format>"
      ]
     },
     "execution_count": 48,
     "metadata": {},
     "output_type": "execute_result"
    }
   ],
   "source": [
    "from scipy.sparse import csr_matrix\n",
    "\n",
    "num_user = ratings['user_id'].max()+1\n",
    "num_movie = ratings['movie_id'].max()+1\n",
    "#num_user = ratings['user_id'].nunique()\n",
    "#num_movie = ratings['movie_id'].nunique()\n",
    "\n",
    "csr_data = csr_matrix((ratings.counts, (ratings.user_id, ratings.movie_id)), shape= (num_user, num_movie))\n",
    "csr_data"
   ]
  },
  {
   "cell_type": "markdown",
   "id": "valid-timeline",
   "metadata": {},
   "source": [
    "## 5) als_model = AlternatingLeastSquares 모델을 직접 구성하여 훈련시켜 봅시다."
   ]
  },
  {
   "cell_type": "code",
   "execution_count": 49,
   "id": "peaceful-latin",
   "metadata": {},
   "outputs": [],
   "source": [
    "from implicit.als import AlternatingLeastSquares\n",
    "import os\n",
    "import numpy as np\n",
    "\n",
    "# implicit 라이브러리에서 권장하고 있는 부분입니다. 학습 내용과는 무관합니다.\n",
    "os.environ['OPENBLAS_NUM_THREADS']='1'\n",
    "os.environ['KMP_DUPLICATE_LIB_OK']='True'\n",
    "os.environ['MKL_NUM_THREADS']='1'"
   ]
  },
  {
   "cell_type": "code",
   "execution_count": 50,
   "id": "sweet-budget",
   "metadata": {},
   "outputs": [
    {
     "data": {
      "text/plain": [
       "<3953x6042 sparse matrix of type '<class 'numpy.longlong'>'\n",
       "\twith 836483 stored elements in Compressed Sparse Column format>"
      ]
     },
     "execution_count": 50,
     "metadata": {},
     "output_type": "execute_result"
    }
   ],
   "source": [
    "# Implicit AlternatingLeastSquares 모델의 선언\n",
    "als_model = AlternatingLeastSquares(factors=100, regularization=0.01, use_gpu=False, iterations=15, dtype=np.float32)\n",
    "\n",
    "# als 모델은 input으로 (item X user 꼴의 matrix를 받기 때문에 Transpose해줍니다.)\n",
    "csr_data_transpose = csr_data.T\n",
    "csr_data_transpose"
   ]
  },
  {
   "cell_type": "code",
   "execution_count": 51,
   "id": "painted-confirmation",
   "metadata": {},
   "outputs": [
    {
     "data": {
      "application/vnd.jupyter.widget-view+json": {
       "model_id": "906c901f18a941c6b5a71673f18a3075",
       "version_major": 2,
       "version_minor": 0
      },
      "text/plain": [
       "  0%|          | 0/15 [00:00<?, ?it/s]"
      ]
     },
     "metadata": {},
     "output_type": "display_data"
    }
   ],
   "source": [
    "# 모델 훈련\n",
    "als_model.fit(csr_data_transpose)"
   ]
  },
  {
   "cell_type": "markdown",
   "id": "light-guide",
   "metadata": {},
   "source": [
    "## 6) 내가 선호하는 5가지 영화 중 하나와 그 외의 영화 하나를 골라 훈련된 모델이 예측한 나의 선호도를 파악해 보세요."
   ]
  },
  {
   "cell_type": "code",
   "execution_count": 54,
   "id": "sought-ukraine",
   "metadata": {},
   "outputs": [],
   "source": [
    "me, jumanji = user_to_idx[6041], movie_to_idx[2]\n",
    "me_vector, jumanji_vector = als_model.user_factors[me], als_model.item_factors[jumanji]"
   ]
  },
  {
   "cell_type": "code",
   "execution_count": 55,
   "id": "seeing-constant",
   "metadata": {},
   "outputs": [
    {
     "data": {
      "text/plain": [
       "array([ 0.6280567 , -0.38646492, -1.9249898 , -0.04649313, -1.2184331 ,\n",
       "        0.5254717 ,  2.6878674 ,  0.659227  , -2.1366112 , -4.0664015 ,\n",
       "       -1.4650328 , -1.581714  , -0.74193764, -0.6219538 ,  0.87858856,\n",
       "       -1.6507298 , -0.08209006, -0.5705416 , -0.3630629 ,  2.2237635 ,\n",
       "        3.815673  ,  0.31418234, -0.3338307 ,  1.8074039 ,  1.0850616 ,\n",
       "       -1.9200345 ,  4.3813486 , -0.3204128 , -0.8519948 ,  3.6501098 ,\n",
       "        0.33271825,  4.5410676 ,  1.1607233 ,  0.09208515,  1.6568532 ,\n",
       "       -1.3396477 ,  1.776712  , -2.5868    ,  0.10112229, -0.4166587 ,\n",
       "        0.3540366 , -1.2650297 ,  1.8914284 ,  3.1717744 ,  0.293455  ,\n",
       "        2.672774  , -2.3721502 , -1.1038758 ,  1.2670362 ,  0.56853956,\n",
       "        0.25345117,  1.0983026 ,  3.3000445 , -2.799539  , -4.363908  ,\n",
       "        1.4966503 , -1.0555766 , -0.18828174, -0.17955805, -1.106352  ,\n",
       "       -1.3545285 , -1.0924753 ,  1.1778096 ,  0.8752473 ,  0.45802212,\n",
       "        0.77473813,  1.6354551 ,  1.6400841 , -1.617556  , -1.0390773 ,\n",
       "        2.1670125 ,  0.18829446, -1.0314579 ,  1.8703197 , -0.1691528 ,\n",
       "        1.2435784 ,  0.0825963 ,  0.06629624,  3.56286   ,  1.3653355 ,\n",
       "        0.25622457,  1.3875871 , -1.368939  ,  0.75636935, -0.34401256,\n",
       "        2.0575757 , -1.2618284 ,  2.7298262 ,  0.5574252 ,  1.3055835 ,\n",
       "       -1.9196948 , -2.3917055 , -0.964527  ,  0.20675474, -0.51570415,\n",
       "        0.5441944 , -2.7110217 ,  1.8420539 , -0.16647074,  0.13611051],\n",
       "      dtype=float32)"
      ]
     },
     "execution_count": 55,
     "metadata": {},
     "output_type": "execute_result"
    }
   ],
   "source": [
    "me_vector"
   ]
  },
  {
   "cell_type": "code",
   "execution_count": 56,
   "id": "younger-press",
   "metadata": {
    "scrolled": false
   },
   "outputs": [
    {
     "data": {
      "text/plain": [
       "array([ 1.0481494e-02,  1.6185994e-03,  1.2045318e-02,  9.3268667e-04,\n",
       "        1.0635717e-02,  1.2367192e-03, -1.2142613e-03,  4.9519073e-03,\n",
       "        3.6485018e-03,  4.9356944e-03,  6.4152493e-03,  3.3075719e-03,\n",
       "        2.3900094e-03,  3.3526516e-03,  4.9857586e-03,  8.3616404e-03,\n",
       "        1.1085597e-02,  8.3494270e-03,  1.1502509e-02, -9.9077661e-05,\n",
       "        1.0702958e-02,  3.5270317e-03,  7.3934444e-03,  6.4276122e-03,\n",
       "        5.5754097e-04,  9.2654498e-03,  1.1212640e-02,  1.0361959e-02,\n",
       "        6.3855276e-03,  8.1750723e-03,  1.0148946e-02,  9.7567160e-03,\n",
       "        2.2809925e-03,  1.1861688e-02,  5.9397747e-03,  9.5319301e-03,\n",
       "        9.5472215e-03,  5.2676722e-03,  2.1547233e-03,  9.1772396e-03,\n",
       "        1.1692219e-02,  1.3606133e-02,  9.7890915e-03,  8.9877993e-03,\n",
       "        6.2156445e-03,  8.4554330e-03,  6.1887233e-03,  1.4202192e-02,\n",
       "        1.1723966e-02,  1.5222238e-03,  2.5673752e-04,  2.4907994e-03,\n",
       "        9.6156457e-03,  5.9438744e-03, -7.1880512e-04,  3.9838194e-03,\n",
       "       -9.6249441e-03,  1.1146036e-02, -1.1099392e-04,  9.6980361e-03,\n",
       "        8.5843345e-03,  2.1141896e-03,  5.4483139e-03,  3.0365617e-03,\n",
       "        1.6961338e-02,  7.7871042e-03,  1.2129110e-02,  9.1293985e-03,\n",
       "        2.3788911e-05,  8.1517315e-03,  2.5705392e-03,  1.0647379e-02,\n",
       "        5.7383496e-03,  1.1523574e-03,  1.6627006e-02,  7.3458240e-03,\n",
       "        3.5012471e-03,  2.9638000e-03,  3.1498538e-03,  1.4645681e-02,\n",
       "        5.6247334e-03,  1.0836681e-02,  2.9152210e-04, -1.2277296e-03,\n",
       "       -2.3768609e-03,  1.5000218e-04,  1.1368055e-02,  1.2921531e-03,\n",
       "        1.5627753e-03,  6.7526633e-03,  1.5454834e-02,  8.1380988e-03,\n",
       "        6.6169193e-03,  2.3030555e-04,  5.4412714e-04,  4.8343069e-03,\n",
       "        4.2327857e-03,  1.6735228e-03,  3.1797097e-03,  1.5722416e-02],\n",
       "      dtype=float32)"
      ]
     },
     "execution_count": 56,
     "metadata": {},
     "output_type": "execute_result"
    }
   ],
   "source": [
    "jumanji_vector"
   ]
  },
  {
   "cell_type": "code",
   "execution_count": 57,
   "id": "refined-experiment",
   "metadata": {
    "scrolled": true
   },
   "outputs": [
    {
     "data": {
      "text/plain": [
       "0.15731911"
      ]
     },
     "execution_count": 57,
     "metadata": {},
     "output_type": "execute_result"
    }
   ],
   "source": [
    "np.dot(me_vector, jumanji_vector)"
   ]
  },
  {
   "cell_type": "code",
   "execution_count": 58,
   "id": "accepted-definition",
   "metadata": {},
   "outputs": [
    {
     "data": {
      "text/plain": [
       "-0.034784187"
      ]
     },
     "execution_count": 58,
     "metadata": {},
     "output_type": "execute_result"
    }
   ],
   "source": [
    "grumpier = movie_to_idx[3]\n",
    "grumpier_vector = als_model.item_factors[grumpier]\n",
    "np.dot(me_vector, grumpier_vector)"
   ]
  },
  {
   "cell_type": "markdown",
   "id": "angry-enough",
   "metadata": {},
   "source": [
    "## 7) 내가 좋아하는 영화와 비슷한 영화를 추천받아 봅시다."
   ]
  },
  {
   "cell_type": "code",
   "execution_count": 75,
   "id": "photographic-shell",
   "metadata": {},
   "outputs": [
    {
     "data": {
      "text/plain": [
       "[['Jumanji (1995)', 0.99999994],\n",
       " ['Hook (1991)', 0.84063315],\n",
       " ['Indian in the Cupboard, The (1995)', 0.8221478],\n",
       " ['Dragonheart (1996)', 0.75426394],\n",
       " ['Santa Clause, The (1994)', 0.6850581],\n",
       " ['Space Jam (1996)', 0.6745924],\n",
       " ['Flubber (1997)', 0.655165],\n",
       " ['Small Soldiers (1998)', 0.6530893],\n",
       " ['NeverEnding Story II: The Next Chapter, The (1990)', 0.64165366],\n",
       " ['Borrowers, The (1997)', 0.61901635]]"
      ]
     },
     "execution_count": 75,
     "metadata": {},
     "output_type": "execute_result"
    }
   ],
   "source": [
    "idx_to_movie = {v:k for k,v in movie_to_idx.items()}\n",
    "\n",
    "def get_similar_movies(movie_id: int):\n",
    "    similar_movie = als_model.similar_items(movie_id)\n",
    "    return similar_movie\n",
    "\n",
    "idx_to_title = {movies.loc[i,'movie_id']:movies.loc[i,'title'] for i in range(len(movies))}\n",
    "[[idx_to_title.get(i[0]),i[1]] for i in get_similar_movies(2)]"
   ]
  },
  {
   "cell_type": "markdown",
   "id": "amazing-section",
   "metadata": {},
   "source": [
    "## 8) 내가 가장 좋아할 만한 영화들을 추천받아 봅시다."
   ]
  },
  {
   "cell_type": "code",
   "execution_count": 76,
   "id": "formal-coupon",
   "metadata": {},
   "outputs": [
    {
     "data": {
      "text/plain": [
       "[['Some Like It Hot (1959)', 910],\n",
       " ['Holiday Inn (1942)', 3061],\n",
       " ['Philadelphia Story, The (1940)', 898],\n",
       " ['Sound of Music, The (1965)', 1035],\n",
       " ['Blazing Saddles (1974)', 3671],\n",
       " ['White Christmas (1954)', 3675],\n",
       " ['Snow White and the Seven Dwarfs (1937)', 594],\n",
       " ['It Happened One Night (1934)', 905],\n",
       " ['North by Northwest (1959)', 908],\n",
       " ['Star Wars: Episode V - The Empire Strikes Back (1980)', 1196],\n",
       " ['Manchurian Candidate, The (1962)', 1267],\n",
       " ['Rebecca (1940)', 928],\n",
       " ['Monty Python and the Holy Grail (1974)', 1136],\n",
       " ['Young Frankenstein (1974)', 1278],\n",
       " ['Double Indemnity (1944)', 3435],\n",
       " ['Strangers on a Train (1951)', 2186],\n",
       " ['Duck Soup (1933)', 1256],\n",
       " ['On the Town (1949)', 3606],\n",
       " ['Jungle Book, The (1967)', 2078],\n",
       " ['Sting, The (1973)', 1234]]"
      ]
     },
     "execution_count": 76,
     "metadata": {},
     "output_type": "execute_result"
    }
   ],
   "source": [
    "user = user_to_idx[6041]\n",
    "# recommend에서는 user*item CSR Matrix를 받습니다.\n",
    "movies_recommended = als_model.recommend(user, csr_data, N=20, filter_already_liked_items=True)\n",
    "movies_recommended\n",
    "\n",
    "[[idx_to_title.get(i[0]), i[0]] for i in movies_recommended]"
   ]
  },
  {
   "cell_type": "code",
   "execution_count": 77,
   "id": "historical-trick",
   "metadata": {
    "scrolled": true
   },
   "outputs": [
    {
     "data": {
      "text/plain": [
       "[('Producers, The (1968)', 0.10782674441084628),\n",
       " ('To Catch a Thief (1955)', 0.06620059102493549),\n",
       " ('Roman Holiday (1953)', 0.06275205015884137),\n",
       " ('Cool Hand Luke (1967)', 0.06237457163949778),\n",
       " ('His Girl Friday (1940)', 0.05118136748463717),\n",
       " ('Mister Roberts (1955)', 0.05026925484128814),\n",
       " ('Bringing Up Baby (1938)', 0.049737074884179784),\n",
       " ('Vertigo (1958)', 0.048212058518972985),\n",
       " ('Rear Window (1954)', 0.04384037467038282),\n",
       " ('My Fair Lady (1964)', 0.04325133616195797)]"
      ]
     },
     "execution_count": 77,
     "metadata": {},
     "output_type": "execute_result"
    }
   ],
   "source": [
    "explain = als_model.explain(user, csr_data, itemid=910)\n",
    "\n",
    "[(idx_to_title.get(i[0]), i[1]) for i in explain[1]]"
   ]
  }
 ],
 "metadata": {
  "kernelspec": {
   "display_name": "Python 3",
   "language": "python",
   "name": "python3"
  },
  "language_info": {
   "codemirror_mode": {
    "name": "ipython",
    "version": 3
   },
   "file_extension": ".py",
   "mimetype": "text/x-python",
   "name": "python",
   "nbconvert_exporter": "python",
   "pygments_lexer": "ipython3",
   "version": "3.7.9"
  }
 },
 "nbformat": 4,
 "nbformat_minor": 5
}
