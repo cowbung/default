{
 "cells": [
  {
   "cell_type": "markdown",
   "id": "victorian-jefferson",
   "metadata": {},
   "source": [
    "# 아날로그 매체의 잡음을 제거해 보아요."
   ]
  },
  {
   "cell_type": "markdown",
   "id": "alert-bowling",
   "metadata": {},
   "source": [
    "## 이거 뭐 하는 거?   \n",
    "\n",
    "#### 거두절미하고 일단 훅~ 들어가 보아요.   \n",
    "\n",
    "#### 아날로그 매체의 잡음(카세트 테이프, LP 등)\n",
    "* 태생잡음\n",
    "* 열화잡음   \n",
    "\n",
    "#### 기존 방식의 한계   \n",
    "* ex) Dolby B, 최근의 DSP\n",
    "* trade-off: 잡음 제거 = 원음 손실   \n",
    "\n",
    "#### 바야흐로 인공지능의 방법으로!"
   ]
  },
  {
   "cell_type": "markdown",
   "id": "graphic-colonial",
   "metadata": {},
   "source": [
    "## 근데 이게 지금 필요한 거임?\n",
    "\n",
    "#### ㅇㅇ 소중한 거임.\n",
    "* 고음반\n",
    "* 개인 소장 자료\n",
    "* 기타 기록물\n",
    "* 응용"
   ]
  },
  {
   "cell_type": "markdown",
   "id": "mathematical-breathing",
   "metadata": {},
   "source": [
    "## 그래서 어떻게 할 수 있다는 거?\n",
    "\n",
    "#### 알고리즘의 도식\n",
    "\n",
    "![알고리즘의 도식](https://github.com/cowbung/default/blob/master/pic.png)\n",
    "\n",
    "#### 아이디어의 핵심은 잡음 데이터와 오염 음원의 제작 방식!\n",
    "* 깨끗한 음원\n",
    "* 잡음 - 태생잡음, 열화잡음\n",
    "* 오염 음원 = 깨끗한 음원 + 잡음\n",
    "\n",
    "#### QIUZ\n",
    "* Hi-Fi를 지향한다는 점에서 차별성\n",
    "* 정교하고 도전적인 과제   \n",
    "\\- 입체적인 사고로 문제에 접근하는 훈련"
   ]
  },
  {
   "cell_type": "markdown",
   "id": "independent-string",
   "metadata": {},
   "source": [
    "## 여기 여기 다 붙어라~\n",
    "\n",
    "* 해커톤을 통해 아이펠에서 공부한 것을 쭈욱 정리해 보고 싶은 분들   \n",
    "\\- 우리 팀의 정체성은 스터디 모임(Learning by Doing!)   \n",
    "\n",
    "\n",
    "* 오디오 데이터를 다뤄보고 싶은 분들   \n",
    "\\- NLP의 음향 모델, 음악 관련 등   \n",
    "\n",
    "\n",
    "* 오토인코더가 궁금하신 분들\n",
    "* GAN을 좋아하시는 분들   \n",
    "\\- 생성모델에 관심이 있나요?   \n",
    "\n",
    "\n",
    "* ☆비밀병기 보유 중☆"
   ]
  }
 ],
 "metadata": {
  "kernelspec": {
   "display_name": "Python 3",
   "language": "python",
   "name": "python3"
  },
  "language_info": {
   "codemirror_mode": {
    "name": "ipython",
    "version": 3
   },
   "file_extension": ".py",
   "mimetype": "text/x-python",
   "name": "python",
   "nbconvert_exporter": "python",
   "pygments_lexer": "ipython3",
   "version": "3.7.9"
  }
 },
 "nbformat": 4,
 "nbformat_minor": 5
}
