{
 "cells": [
  {
   "cell_type": "markdown",
   "id": "foster-slovenia",
   "metadata": {},
   "source": [
    "# 프로젝트 : This is your playground! Leaderboard를 정복해 주세요!"
   ]
  },
  {
   "cell_type": "markdown",
   "id": "demonstrated-session",
   "metadata": {},
   "source": [
    "## 몇 가지 사정으로 이번 과제는 다음에 시간을 따로 내어 진행하기로 했습니다.ㅠㅠ\n",
    "## 빠른 시일 내에 이 페이지가 업데이트 될 수 있도록 하자고 다짐합니다."
   ]
  }
 ],
 "metadata": {
  "kernelspec": {
   "display_name": "Python 3",
   "language": "python",
   "name": "python3"
  },
  "language_info": {
   "codemirror_mode": {
    "name": "ipython",
    "version": 3
   },
   "file_extension": ".py",
   "mimetype": "text/x-python",
   "name": "python",
   "nbconvert_exporter": "python",
   "pygments_lexer": "ipython3",
   "version": "3.7.9"
  }
 },
 "nbformat": 4,
 "nbformat_minor": 5
}
