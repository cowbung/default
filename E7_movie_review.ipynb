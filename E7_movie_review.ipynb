{
 "cells": [
  {
   "cell_type": "markdown",
   "id": "oriented-graphic",
   "metadata": {},
   "source": [
    "# 프로젝트 : 네이버 영화리뷰 감성분석 도전하기"
   ]
  },
  {
   "cell_type": "markdown",
   "id": "particular-royal",
   "metadata": {},
   "source": [
    "## 1) 데이터 준비와 확인"
   ]
  },
  {
   "cell_type": "code",
   "execution_count": 1,
   "id": "british-globe",
   "metadata": {},
   "outputs": [
    {
     "data": {
      "text/html": [
       "<div>\n",
       "<style scoped>\n",
       "    .dataframe tbody tr th:only-of-type {\n",
       "        vertical-align: middle;\n",
       "    }\n",
       "\n",
       "    .dataframe tbody tr th {\n",
       "        vertical-align: top;\n",
       "    }\n",
       "\n",
       "    .dataframe thead th {\n",
       "        text-align: right;\n",
       "    }\n",
       "</style>\n",
       "<table border=\"1\" class=\"dataframe\">\n",
       "  <thead>\n",
       "    <tr style=\"text-align: right;\">\n",
       "      <th></th>\n",
       "      <th>id</th>\n",
       "      <th>document</th>\n",
       "      <th>label</th>\n",
       "    </tr>\n",
       "  </thead>\n",
       "  <tbody>\n",
       "    <tr>\n",
       "      <th>0</th>\n",
       "      <td>9976970</td>\n",
       "      <td>아 더빙.. 진짜 짜증나네요 목소리</td>\n",
       "      <td>0</td>\n",
       "    </tr>\n",
       "    <tr>\n",
       "      <th>1</th>\n",
       "      <td>3819312</td>\n",
       "      <td>흠...포스터보고 초딩영화줄....오버연기조차 가볍지 않구나</td>\n",
       "      <td>1</td>\n",
       "    </tr>\n",
       "    <tr>\n",
       "      <th>2</th>\n",
       "      <td>10265843</td>\n",
       "      <td>너무재밓었다그래서보는것을추천한다</td>\n",
       "      <td>0</td>\n",
       "    </tr>\n",
       "    <tr>\n",
       "      <th>3</th>\n",
       "      <td>9045019</td>\n",
       "      <td>교도소 이야기구먼 ..솔직히 재미는 없다..평점 조정</td>\n",
       "      <td>0</td>\n",
       "    </tr>\n",
       "    <tr>\n",
       "      <th>4</th>\n",
       "      <td>6483659</td>\n",
       "      <td>사이몬페그의 익살스런 연기가 돋보였던 영화!스파이더맨에서 늙어보이기만 했던 커스틴 ...</td>\n",
       "      <td>1</td>\n",
       "    </tr>\n",
       "  </tbody>\n",
       "</table>\n",
       "</div>"
      ],
      "text/plain": [
       "         id                                           document  label\n",
       "0   9976970                                아 더빙.. 진짜 짜증나네요 목소리      0\n",
       "1   3819312                  흠...포스터보고 초딩영화줄....오버연기조차 가볍지 않구나      1\n",
       "2  10265843                                  너무재밓었다그래서보는것을추천한다      0\n",
       "3   9045019                      교도소 이야기구먼 ..솔직히 재미는 없다..평점 조정      0\n",
       "4   6483659  사이몬페그의 익살스런 연기가 돋보였던 영화!스파이더맨에서 늙어보이기만 했던 커스틴 ...      1"
      ]
     },
     "execution_count": 1,
     "metadata": {},
     "output_type": "execute_result"
    }
   ],
   "source": [
    "import pandas as pd\n",
    "import urllib.request\n",
    "%matplotlib inline\n",
    "import matplotlib.pyplot as plt\n",
    "import re\n",
    "from konlpy.tag import Okt\n",
    "from tensorflow import keras\n",
    "from tensorflow.keras.preprocessing.text import Tokenizer\n",
    "import numpy as np\n",
    "from tensorflow.keras.preprocessing.sequence import pad_sequences\n",
    "from collections import Counter\n",
    "\n",
    "# 데이터를 읽어봅시다. \n",
    "train_data = pd.read_table('~/aiffel/sentiment_classification/data/ratings_train.txt')\n",
    "test_data = pd.read_table('~/aiffel/sentiment_classification/data/ratings_test.txt')\n",
    "\n",
    "train_data.head()"
   ]
  },
  {
   "cell_type": "markdown",
   "id": "injured-spank",
   "metadata": {},
   "source": [
    "## 2) 데이터로더 구성"
   ]
  },
  {
   "cell_type": "code",
   "execution_count": 30,
   "id": "modern-institution",
   "metadata": {},
   "outputs": [],
   "source": [
    "from konlpy.tag import Mecab\n",
    "tokenizer = Mecab()\n",
    "stopwords = ['의','가','이','은','들','는','좀','잘','걍','과','도','를','으로','자','에','와','한','하다']\n",
    "\n",
    "def load_data(train_data, test_data, num_words=10000):\n",
    "\n",
    "    # 데이터의 중복 제거\n",
    "    train_data.drop_duplicates(subset=['document'], inplace=True)\n",
    "\n",
    "    # NNaN 결측치 제거\n",
    "    train_data = train_data.dropna(how = 'any') \n",
    "    test_data.drop_duplicates(subset=['document'], inplace=True)\n",
    "    test_data = test_data.dropna(how = 'any')\n",
    "\n",
    "    # 한국어 토크나이저로 토큰화, 불용어(Stopwords) 제거\n",
    "    X_train = []\n",
    "    for sentence in train_data['document']:\n",
    "        temp_X = tokenizer.morphs(sentence) # 토큰화\n",
    "        temp_X = [word for word in temp_X if not word in stopwords] # 불용어 제거\n",
    "        X_train.append(temp_X)\n",
    "\n",
    "    X_test = []\n",
    "    for sentence in test_data['document']:\n",
    "        temp_X = tokenizer.morphs(sentence) # 토큰화\n",
    "        temp_X = [word for word in temp_X if not word in stopwords] # 불용어 제거\n",
    "        X_test.append(temp_X)\n",
    "    \n",
    "    words = np.concatenate(X_train).tolist()\n",
    "    counter = Counter(words)\n",
    "    counter = counter.most_common(10000-4)\n",
    "    vocab = ['<PAD>', '<BOS>', '<UNK>', '<UNUSED>'] + [key for key, _ in counter]\n",
    "    word_to_index = {word:index for index, word in enumerate(vocab)}\n",
    "\n",
    "    # 사전word_to_index 구성\n",
    "    def wordlist_to_indexlist(wordlist):\n",
    "        return [word_to_index[word] if word in word_to_index else word_to_index['<UNK>'] for word in wordlist]\n",
    "        \n",
    "    X_train = list(map(wordlist_to_indexlist, X_train))\n",
    "    X_test = list(map(wordlist_to_indexlist, X_test))\n",
    "        \n",
    "    return X_train, np.array(list(train_data['label'])), X_test, np.array(list(test_data['label'])), word_to_index\n",
    "  \n",
    "X_train, y_train, X_test, y_test, word_to_index = load_data(train_data, test_data)"
   ]
  },
  {
   "cell_type": "code",
   "execution_count": 31,
   "id": "happy-extreme",
   "metadata": {},
   "outputs": [],
   "source": [
    "index_to_word = {index:word for word, index in word_to_index.items()}"
   ]
  },
  {
   "cell_type": "code",
   "execution_count": 32,
   "id": "orange-spread",
   "metadata": {},
   "outputs": [],
   "source": [
    "# 문장 1개를 활용할 딕셔너리와 함께 주면, 단어 인덱스 리스트 벡터로 변환해 주는 함수입니다. \n",
    "# 단, 모든 문장은 <BOS>로 시작하는 것으로 합니다. \n",
    "def get_encoded_sentence(sentence, word_to_index):\n",
    "    return [word_to_index['<BOS>']]+[word_to_index[word] if word in word_to_index else word_to_index['<UNK>'] for word in sentence.split()]\n",
    "\n",
    "# 여러 개의 문장 리스트를 한꺼번에 단어 인덱스 리스트 벡터로 encode해 주는 함수입니다. \n",
    "def get_encoded_sentences(sentences, word_to_index):\n",
    "    return [get_encoded_sentence(sentence, word_to_index) for sentence in sentences]\n",
    "\n",
    "# 숫자 벡터로 encode된 문장을 원래대로 decode하는 함수입니다. \n",
    "def get_decoded_sentence(encoded_sentence, index_to_word):\n",
    "    return ' '.join(index_to_word[index] if index in index_to_word else '<UNK>' for index in encoded_sentence[1:])  #[1:]를 통해 <BOS>를 제외\n",
    "\n",
    "# 여러 개의 숫자 벡터로 encode된 문장을 한꺼번에 원래대로 decode하는 함수입니다. \n",
    "def get_decoded_sentences(encoded_sentences, index_to_word):\n",
    "    return [get_decoded_sentence(encoded_sentence, index_to_word) for encoded_sentence in encoded_sentences]"
   ]
  },
  {
   "cell_type": "markdown",
   "id": "processed-director",
   "metadata": {},
   "source": [
    "## 3) 모델구성을 위한 데이터 분석 및 가공"
   ]
  },
  {
   "cell_type": "markdown",
   "id": "official-yesterday",
   "metadata": {},
   "source": [
    "* 데이터셋 내 문장 길이 분포"
   ]
  },
  {
   "cell_type": "code",
   "execution_count": 33,
   "id": "impressed-intersection",
   "metadata": {},
   "outputs": [
    {
     "data": {
      "text/plain": [
       "116"
      ]
     },
     "execution_count": 33,
     "metadata": {},
     "output_type": "execute_result"
    }
   ],
   "source": [
    "len(max(X_train, key=len))"
   ]
  },
  {
   "cell_type": "code",
   "execution_count": 34,
   "id": "logical-fellowship",
   "metadata": {
    "scrolled": true
   },
   "outputs": [
    {
     "data": {
      "text/plain": [
       "105"
      ]
     },
     "execution_count": 34,
     "metadata": {},
     "output_type": "execute_result"
    }
   ],
   "source": [
    "len(max(X_test, key=len))"
   ]
  },
  {
   "cell_type": "markdown",
   "id": "attempted-division",
   "metadata": {},
   "source": [
    "* 적절한 최대 문장 길이 지정"
   ]
  },
  {
   "cell_type": "code",
   "execution_count": 35,
   "id": "preliminary-banks",
   "metadata": {},
   "outputs": [
    {
     "name": "stdout",
     "output_type": "stream",
     "text": [
      "문장길이 평균 :  15.96940191154864\n",
      "문장길이 최대 :  116\n",
      "문장길이 표준편차 :  12.843571191092\n",
      "pad_sequences maxlen :  41\n",
      "전체 문장의 0.9342988343341575%가 maxlen 설정값 이내에 포함됩니다. \n"
     ]
    }
   ],
   "source": [
    "total_data_text = list(X_train) + list(X_test)\n",
    "# 텍스트데이터 문장길이의 리스트를 생성한 후\n",
    "num_tokens = [len(tokens) for tokens in total_data_text]\n",
    "num_tokens = np.array(num_tokens)\n",
    "# 문장길이의 평균값, 최대값, 표준편차를 계산해 본다. \n",
    "print('문장길이 평균 : ', np.mean(num_tokens))\n",
    "print('문장길이 최대 : ', np.max(num_tokens))\n",
    "print('문장길이 표준편차 : ', np.std(num_tokens))\n",
    "\n",
    "# 예를들어, 최대 길이를 (평균 + 2*표준편차)로 한다면,  \n",
    "max_tokens = np.mean(num_tokens) + 2 * np.std(num_tokens)\n",
    "maxlen = int(max_tokens)\n",
    "print('pad_sequences maxlen : ', maxlen)\n",
    "print('전체 문장의 {}%가 maxlen 설정값 이내에 포함됩니다. '.format(np.sum(num_tokens < max_tokens) / len(num_tokens)))"
   ]
  },
  {
   "cell_type": "code",
   "execution_count": 36,
   "id": "similar-elimination",
   "metadata": {},
   "outputs": [
    {
     "name": "stdout",
     "output_type": "stream",
     "text": [
      "pad_sequences maxlen :  60\n",
      "전체 문장의 0.9859833417801873%가 maxlen 설정값 이내에 포함됩니다. \n"
     ]
    }
   ],
   "source": [
    "maxlen = 60\n",
    "print('pad_sequences maxlen : ', maxlen)\n",
    "print('전체 문장의 {}%가 maxlen 설정값 이내에 포함됩니다. '.format(np.sum(num_tokens < maxlen) / len(num_tokens)))"
   ]
  },
  {
   "cell_type": "markdown",
   "id": "muslim-masters",
   "metadata": {},
   "source": [
    "* keras.preprocessing.sequence.pad_sequences 을 활용한 패딩 추가"
   ]
  },
  {
   "cell_type": "code",
   "execution_count": 37,
   "id": "sensitive-asset",
   "metadata": {},
   "outputs": [
    {
     "name": "stdout",
     "output_type": "stream",
     "text": [
      "(146182, 60)\n"
     ]
    }
   ],
   "source": [
    "X_train = keras.preprocessing.sequence.pad_sequences(X_train,\n",
    "                                                        value=word_to_index[\"<PAD>\"],\n",
    "                                                        padding='pre',\n",
    "                                                        maxlen=maxlen)\n",
    "\n",
    "X_test = keras.preprocessing.sequence.pad_sequences(X_test,\n",
    "                                                       value=word_to_index[\"<PAD>\"],\n",
    "                                                       padding='pre',\n",
    "                                                       maxlen=maxlen)\n",
    "\n",
    "print(X_train.shape)"
   ]
  },
  {
   "cell_type": "markdown",
   "id": "equipped-comment",
   "metadata": {},
   "source": [
    "## 4) 모델구성 및 validation set 구성"
   ]
  },
  {
   "cell_type": "code",
   "execution_count": 40,
   "id": "mediterranean-science",
   "metadata": {},
   "outputs": [
    {
     "name": "stdout",
     "output_type": "stream",
     "text": [
      "Model: \"sequential_1\"\n",
      "_________________________________________________________________\n",
      "Layer (type)                 Output Shape              Param #   \n",
      "=================================================================\n",
      "embedding_1 (Embedding)      (None, None, 100)         1000000   \n",
      "_________________________________________________________________\n",
      "lstm_1 (LSTM)                (None, 128)               117248    \n",
      "_________________________________________________________________\n",
      "dense_2 (Dense)              (None, 8)                 1032      \n",
      "_________________________________________________________________\n",
      "dense_3 (Dense)              (None, 1)                 9         \n",
      "=================================================================\n",
      "Total params: 1,118,289\n",
      "Trainable params: 1,118,289\n",
      "Non-trainable params: 0\n",
      "_________________________________________________________________\n"
     ]
    }
   ],
   "source": [
    "vocab_size = 10000    # 어휘 사전의 크기입니다(10,000개의 단어)\n",
    "word_vector_dim = 100  # 워드 벡터의 차원 수 (변경 가능한 하이퍼파라미터)\n",
    "\n",
    "# model 설계\n",
    "model = keras.Sequential()\n",
    "model.add(keras.layers.Embedding(vocab_size, word_vector_dim, input_shape=(None,)))\n",
    "model.add(keras.layers.LSTM(128))   # 가장 널리 쓰이는 RNN인 LSTM 레이어를 사용하였습니다. 이때 LSTM state 벡터의 차원수는 128로 하였습니다. (변경 가능)\n",
    "model.add(keras.layers.Dense(8, activation='relu'))\n",
    "model.add(keras.layers.Dense(1, activation='sigmoid'))  # 최종 출력은 긍정/부정을 나타내는 1dim 입니다.\n",
    "\n",
    "model.summary()"
   ]
  },
  {
   "cell_type": "code",
   "execution_count": 41,
   "id": "directed-berlin",
   "metadata": {},
   "outputs": [
    {
     "name": "stdout",
     "output_type": "stream",
     "text": [
      "(136182, 60)\n",
      "(136182,)\n"
     ]
    }
   ],
   "source": [
    "# validation set 10000건 분리\n",
    "x_val = X_train[:10000]   \n",
    "y_val = y_train[:10000]\n",
    "\n",
    "# validation set을 제외한 나머지 15000건\n",
    "partial_x_train = X_train[10000:]  \n",
    "partial_y_train = y_train[10000:]\n",
    "\n",
    "print(partial_x_train.shape)\n",
    "print(partial_y_train.shape)"
   ]
  },
  {
   "cell_type": "markdown",
   "id": "stupid-guard",
   "metadata": {},
   "source": [
    "## 5) 모델 훈련 개시"
   ]
  },
  {
   "cell_type": "code",
   "execution_count": 47,
   "id": "warming-announcement",
   "metadata": {},
   "outputs": [
    {
     "name": "stdout",
     "output_type": "stream",
     "text": [
      "Epoch 1/20\n",
      "266/266 [==============================] - 6s 19ms/step - loss: 0.0114 - accuracy: 0.9960 - val_loss: 0.9736 - val_accuracy: 0.8277\n",
      "Epoch 2/20\n",
      "266/266 [==============================] - 5s 18ms/step - loss: 0.0090 - accuracy: 0.9968 - val_loss: 0.9969 - val_accuracy: 0.8273\n",
      "Epoch 3/20\n",
      "266/266 [==============================] - 5s 18ms/step - loss: 0.0090 - accuracy: 0.9963 - val_loss: 1.0317 - val_accuracy: 0.8270\n",
      "Epoch 4/20\n",
      "266/266 [==============================] - 5s 18ms/step - loss: 0.0076 - accuracy: 0.9966 - val_loss: 1.0640 - val_accuracy: 0.8255\n",
      "Epoch 5/20\n",
      "266/266 [==============================] - 5s 18ms/step - loss: 0.0069 - accuracy: 0.9969 - val_loss: 1.0772 - val_accuracy: 0.8271\n",
      "Epoch 6/20\n",
      "266/266 [==============================] - 5s 18ms/step - loss: 0.0075 - accuracy: 0.9968 - val_loss: 1.1085 - val_accuracy: 0.8269\n",
      "Epoch 7/20\n",
      "266/266 [==============================] - 5s 18ms/step - loss: 0.0061 - accuracy: 0.9970 - val_loss: 1.1442 - val_accuracy: 0.8251\n",
      "Epoch 8/20\n",
      "266/266 [==============================] - 5s 18ms/step - loss: 0.0063 - accuracy: 0.9970 - val_loss: 1.1521 - val_accuracy: 0.8248\n",
      "Epoch 9/20\n",
      "266/266 [==============================] - 5s 18ms/step - loss: 0.0063 - accuracy: 0.9968 - val_loss: 1.1914 - val_accuracy: 0.8241\n",
      "Epoch 10/20\n",
      "266/266 [==============================] - 5s 18ms/step - loss: 0.0054 - accuracy: 0.9973 - val_loss: 1.2160 - val_accuracy: 0.8241\n",
      "Epoch 11/20\n",
      "266/266 [==============================] - 5s 18ms/step - loss: 0.0063 - accuracy: 0.9971 - val_loss: 1.2440 - val_accuracy: 0.8194\n",
      "Epoch 12/20\n",
      "266/266 [==============================] - 5s 18ms/step - loss: 0.0061 - accuracy: 0.9969 - val_loss: 1.2898 - val_accuracy: 0.8189\n",
      "Epoch 13/20\n",
      "266/266 [==============================] - 5s 18ms/step - loss: 0.0078 - accuracy: 0.9964 - val_loss: 1.3417 - val_accuracy: 0.8173\n",
      "Epoch 14/20\n",
      "266/266 [==============================] - 5s 18ms/step - loss: 0.0093 - accuracy: 0.9957 - val_loss: 1.3726 - val_accuracy: 0.8221\n",
      "Epoch 15/20\n",
      "266/266 [==============================] - 5s 18ms/step - loss: 0.0081 - accuracy: 0.9963 - val_loss: 1.3846 - val_accuracy: 0.8213\n",
      "Epoch 16/20\n",
      "266/266 [==============================] - 5s 18ms/step - loss: 0.0058 - accuracy: 0.9972 - val_loss: 1.3874 - val_accuracy: 0.8225\n",
      "Epoch 17/20\n",
      "266/266 [==============================] - 5s 18ms/step - loss: 0.0052 - accuracy: 0.9970 - val_loss: 1.3828 - val_accuracy: 0.8224\n",
      "Epoch 18/20\n",
      "266/266 [==============================] - 5s 18ms/step - loss: 0.0049 - accuracy: 0.9974 - val_loss: 1.3756 - val_accuracy: 0.8238\n",
      "Epoch 19/20\n",
      "266/266 [==============================] - 5s 18ms/step - loss: 0.0050 - accuracy: 0.9973 - val_loss: 1.3858 - val_accuracy: 0.8236\n",
      "Epoch 20/20\n",
      "266/266 [==============================] - 5s 18ms/step - loss: 0.0048 - accuracy: 0.9973 - val_loss: 1.3910 - val_accuracy: 0.8233\n"
     ]
    }
   ],
   "source": [
    "model.compile(optimizer='adam',\n",
    "              loss='binary_crossentropy',\n",
    "              metrics=['accuracy'])\n",
    "              \n",
    "epochs=20  # 몇 epoch를 훈련하면 좋을지 결과를 보면서 바꾸어 봅시다. \n",
    "\n",
    "history = model.fit(partial_x_train,\n",
    "                    partial_y_train,\n",
    "                    epochs=epochs,\n",
    "                    batch_size=512,\n",
    "                    validation_data=(x_val, y_val),\n",
    "                    verbose=1)"
   ]
  },
  {
   "cell_type": "code",
   "execution_count": 48,
   "id": "celtic-registration",
   "metadata": {},
   "outputs": [
    {
     "name": "stdout",
     "output_type": "stream",
     "text": [
      "1537/1537 - 3s - loss: 1.4068 - accuracy: 0.8228\n",
      "[1.4067509174346924, 0.8228126168251038]\n"
     ]
    }
   ],
   "source": [
    "results = model.evaluate(X_test,  y_test, verbose=2)\n",
    "\n",
    "print(results)"
   ]
  },
  {
   "cell_type": "markdown",
   "id": "japanese-cambodia",
   "metadata": {},
   "source": [
    "### 모델은 3가지 이상 다양하게 구성하여 실험해 보세요."
   ]
  },
  {
   "cell_type": "code",
   "execution_count": 43,
   "id": "structured-scroll",
   "metadata": {},
   "outputs": [
    {
     "name": "stdout",
     "output_type": "stream",
     "text": [
      "Model: \"GlobalMaxPooling1D\"\n",
      "_________________________________________________________________\n",
      "Layer (type)                 Output Shape              Param #   \n",
      "=================================================================\n",
      "embedding_2 (Embedding)      (None, None, 100)         1000000   \n",
      "_________________________________________________________________\n",
      "global_max_pooling1d (Global (None, 100)               0         \n",
      "_________________________________________________________________\n",
      "dense_4 (Dense)              (None, 8)                 808       \n",
      "_________________________________________________________________\n",
      "dense_5 (Dense)              (None, 1)                 9         \n",
      "=================================================================\n",
      "Total params: 1,000,817\n",
      "Trainable params: 1,000,817\n",
      "Non-trainable params: 0\n",
      "_________________________________________________________________\n"
     ]
    }
   ],
   "source": [
    "model = keras.Sequential(name=\"GlobalMaxPooling1D\")\n",
    "\n",
    "model.add(keras.layers.Embedding(vocab_size, word_vector_dim, input_shape=(None,)))\n",
    "model.add(keras.layers.GlobalMaxPooling1D())\n",
    "model.add(keras.layers.Dense(8, activation='relu'))\n",
    "model.add(keras.layers.Dense(1, activation='sigmoid'))  # 최종 출력은 긍정/부정을 나타내는 1dim 입니다.\n",
    "\n",
    "model.summary()"
   ]
  },
  {
   "cell_type": "code",
   "execution_count": 44,
   "id": "disciplinary-incentive",
   "metadata": {},
   "outputs": [
    {
     "name": "stdout",
     "output_type": "stream",
     "text": [
      "Epoch 1/20\n",
      "266/266 [==============================] - 6s 19ms/step - loss: 0.5749 - accuracy: 0.7611 - val_loss: 0.3444 - val_accuracy: 0.8476\n",
      "Epoch 2/20\n",
      "266/266 [==============================] - 5s 18ms/step - loss: 0.3163 - accuracy: 0.8674 - val_loss: 0.3282 - val_accuracy: 0.8535\n",
      "Epoch 3/20\n",
      "266/266 [==============================] - 5s 18ms/step - loss: 0.2691 - accuracy: 0.8915 - val_loss: 0.3321 - val_accuracy: 0.8562\n",
      "Epoch 4/20\n",
      "266/266 [==============================] - 5s 18ms/step - loss: 0.2369 - accuracy: 0.9078 - val_loss: 0.3405 - val_accuracy: 0.8534\n",
      "Epoch 5/20\n",
      "266/266 [==============================] - 5s 18ms/step - loss: 0.2030 - accuracy: 0.9227 - val_loss: 0.3554 - val_accuracy: 0.8543\n",
      "Epoch 6/20\n",
      "266/266 [==============================] - 5s 18ms/step - loss: 0.1709 - accuracy: 0.9390 - val_loss: 0.3778 - val_accuracy: 0.8517\n",
      "Epoch 7/20\n",
      "266/266 [==============================] - 5s 18ms/step - loss: 0.1404 - accuracy: 0.9537 - val_loss: 0.4046 - val_accuracy: 0.8511\n",
      "Epoch 8/20\n",
      "266/266 [==============================] - 5s 18ms/step - loss: 0.1100 - accuracy: 0.9660 - val_loss: 0.4443 - val_accuracy: 0.8446\n",
      "Epoch 9/20\n",
      "266/266 [==============================] - 5s 18ms/step - loss: 0.0876 - accuracy: 0.9747 - val_loss: 0.4798 - val_accuracy: 0.8412\n",
      "Epoch 10/20\n",
      "266/266 [==============================] - 5s 18ms/step - loss: 0.0691 - accuracy: 0.9817 - val_loss: 0.5165 - val_accuracy: 0.8407\n",
      "Epoch 11/20\n",
      "266/266 [==============================] - 5s 18ms/step - loss: 0.0521 - accuracy: 0.9868 - val_loss: 0.5608 - val_accuracy: 0.8352\n",
      "Epoch 12/20\n",
      "266/266 [==============================] - 5s 18ms/step - loss: 0.0417 - accuracy: 0.9891 - val_loss: 0.5984 - val_accuracy: 0.8372\n",
      "Epoch 13/20\n",
      "266/266 [==============================] - 5s 18ms/step - loss: 0.0329 - accuracy: 0.9917 - val_loss: 0.6384 - val_accuracy: 0.8340\n",
      "Epoch 14/20\n",
      "266/266 [==============================] - 5s 18ms/step - loss: 0.0256 - accuracy: 0.9940 - val_loss: 0.6838 - val_accuracy: 0.8338\n",
      "Epoch 15/20\n",
      "266/266 [==============================] - 5s 18ms/step - loss: 0.0213 - accuracy: 0.9945 - val_loss: 0.7202 - val_accuracy: 0.8335\n",
      "Epoch 16/20\n",
      "266/266 [==============================] - 5s 18ms/step - loss: 0.0171 - accuracy: 0.9955 - val_loss: 0.7581 - val_accuracy: 0.8313\n",
      "Epoch 17/20\n",
      "266/266 [==============================] - 5s 18ms/step - loss: 0.0152 - accuracy: 0.9957 - val_loss: 0.7962 - val_accuracy: 0.8316\n",
      "Epoch 18/20\n",
      "266/266 [==============================] - 5s 18ms/step - loss: 0.0128 - accuracy: 0.9959 - val_loss: 0.8271 - val_accuracy: 0.8291\n",
      "Epoch 19/20\n",
      "266/266 [==============================] - 5s 19ms/step - loss: 0.0114 - accuracy: 0.9966 - val_loss: 0.8587 - val_accuracy: 0.8293\n",
      "Epoch 20/20\n",
      "266/266 [==============================] - 5s 18ms/step - loss: 0.0102 - accuracy: 0.9965 - val_loss: 0.8740 - val_accuracy: 0.8326\n"
     ]
    }
   ],
   "source": [
    "model.compile(optimizer='adam',\n",
    "              loss='binary_crossentropy',\n",
    "              metrics=['accuracy'])\n",
    "              \n",
    "epochs=20  # 몇 epoch를 훈련하면 좋을지 결과를 보면서 바꾸어 봅시다. \n",
    "\n",
    "history = model.fit(partial_x_train,\n",
    "                    partial_y_train,\n",
    "                    epochs=epochs,\n",
    "                    batch_size=512,\n",
    "                    validation_data=(x_val, y_val),\n",
    "                    verbose=1)"
   ]
  },
  {
   "cell_type": "code",
   "execution_count": 46,
   "id": "median-policy",
   "metadata": {},
   "outputs": [
    {
     "name": "stdout",
     "output_type": "stream",
     "text": [
      "1537/1537 - 3s - loss: 0.8721 - accuracy: 0.8300\n",
      "[0.8720548152923584, 0.8299936652183533]\n"
     ]
    }
   ],
   "source": [
    "results = model.evaluate(X_test,  y_test, verbose=2)\n",
    "\n",
    "print(results)"
   ]
  },
  {
   "cell_type": "code",
   "execution_count": 49,
   "id": "twenty-message",
   "metadata": {},
   "outputs": [
    {
     "name": "stdout",
     "output_type": "stream",
     "text": [
      "Model: \"CNN\"\n",
      "_________________________________________________________________\n",
      "Layer (type)                 Output Shape              Param #   \n",
      "=================================================================\n",
      "embedding_3 (Embedding)      (None, None, 100)         1000000   \n",
      "_________________________________________________________________\n",
      "conv1d (Conv1D)              (None, None, 16)          11216     \n",
      "_________________________________________________________________\n",
      "max_pooling1d (MaxPooling1D) (None, None, 16)          0         \n",
      "_________________________________________________________________\n",
      "conv1d_1 (Conv1D)            (None, None, 16)          1808      \n",
      "_________________________________________________________________\n",
      "global_max_pooling1d_1 (Glob (None, 16)                0         \n",
      "_________________________________________________________________\n",
      "dense_6 (Dense)              (None, 8)                 136       \n",
      "_________________________________________________________________\n",
      "dense_7 (Dense)              (None, 1)                 9         \n",
      "=================================================================\n",
      "Total params: 1,013,169\n",
      "Trainable params: 1,013,169\n",
      "Non-trainable params: 0\n",
      "_________________________________________________________________\n"
     ]
    }
   ],
   "source": [
    "model = keras.Sequential(name=\"CNN\")\n",
    "model.add(keras.layers.Embedding(vocab_size, word_vector_dim, input_shape=(None,)))\n",
    "model.add(keras.layers.Conv1D(16, 7, activation='relu'))\n",
    "model.add(keras.layers.MaxPooling1D(5))\n",
    "model.add(keras.layers.Conv1D(16, 7, activation='relu'))\n",
    "model.add(keras.layers.GlobalMaxPooling1D())\n",
    "model.add(keras.layers.Dense(8, activation='relu'))\n",
    "model.add(keras.layers.Dense(1, activation='sigmoid'))\n",
    "\n",
    "model.summary()"
   ]
  },
  {
   "cell_type": "code",
   "execution_count": 50,
   "id": "toxic-blind",
   "metadata": {},
   "outputs": [
    {
     "name": "stdout",
     "output_type": "stream",
     "text": [
      "Epoch 1/20\n",
      "266/266 [==============================] - 15s 41ms/step - loss: 0.6155 - accuracy: 0.6346 - val_loss: 0.4566 - val_accuracy: 0.7686\n",
      "Epoch 2/20\n",
      "266/266 [==============================] - 6s 23ms/step - loss: 0.4227 - accuracy: 0.7935 - val_loss: 0.4480 - val_accuracy: 0.7742\n",
      "Epoch 3/20\n",
      "266/266 [==============================] - 6s 22ms/step - loss: 0.3710 - accuracy: 0.8215 - val_loss: 0.4556 - val_accuracy: 0.7723\n",
      "Epoch 4/20\n",
      "266/266 [==============================] - 6s 22ms/step - loss: 0.3082 - accuracy: 0.8545 - val_loss: 0.4855 - val_accuracy: 0.7703\n",
      "Epoch 5/20\n",
      "266/266 [==============================] - 6s 23ms/step - loss: 0.2458 - accuracy: 0.8859 - val_loss: 0.5530 - val_accuracy: 0.7592\n",
      "Epoch 6/20\n",
      "266/266 [==============================] - 6s 22ms/step - loss: 0.1980 - accuracy: 0.9054 - val_loss: 0.6335 - val_accuracy: 0.7501\n",
      "Epoch 7/20\n",
      "266/266 [==============================] - 6s 23ms/step - loss: 0.1693 - accuracy: 0.9142 - val_loss: 0.7141 - val_accuracy: 0.7478\n",
      "Epoch 8/20\n",
      "266/266 [==============================] - 6s 22ms/step - loss: 0.1471 - accuracy: 0.9246 - val_loss: 0.8011 - val_accuracy: 0.7499\n",
      "Epoch 9/20\n",
      "266/266 [==============================] - 6s 22ms/step - loss: 0.1352 - accuracy: 0.9287 - val_loss: 0.8821 - val_accuracy: 0.7484\n",
      "Epoch 10/20\n",
      "266/266 [==============================] - 6s 22ms/step - loss: 0.1260 - accuracy: 0.9313 - val_loss: 0.9572 - val_accuracy: 0.7457\n",
      "Epoch 11/20\n",
      "266/266 [==============================] - 7s 26ms/step - loss: 0.1215 - accuracy: 0.9318 - val_loss: 1.0314 - val_accuracy: 0.7415\n",
      "Epoch 12/20\n",
      "266/266 [==============================] - 6s 22ms/step - loss: 0.1179 - accuracy: 0.9340 - val_loss: 1.1153 - val_accuracy: 0.7434\n",
      "Epoch 13/20\n",
      "266/266 [==============================] - 6s 22ms/step - loss: 0.1141 - accuracy: 0.9347 - val_loss: 1.1987 - val_accuracy: 0.7428\n",
      "Epoch 14/20\n",
      "266/266 [==============================] - 6s 22ms/step - loss: 0.1127 - accuracy: 0.9354 - val_loss: 1.2310 - val_accuracy: 0.7481\n",
      "Epoch 15/20\n",
      "266/266 [==============================] - 6s 22ms/step - loss: 0.1133 - accuracy: 0.9354 - val_loss: 1.2844 - val_accuracy: 0.7425\n",
      "Epoch 16/20\n",
      "266/266 [==============================] - 6s 22ms/step - loss: 0.1111 - accuracy: 0.9348 - val_loss: 1.2958 - val_accuracy: 0.7439\n",
      "Epoch 17/20\n",
      "266/266 [==============================] - 6s 23ms/step - loss: 0.1074 - accuracy: 0.9381 - val_loss: 1.3734 - val_accuracy: 0.7466\n",
      "Epoch 18/20\n",
      "266/266 [==============================] - 6s 22ms/step - loss: 0.1053 - accuracy: 0.9381 - val_loss: 1.4022 - val_accuracy: 0.7446\n",
      "Epoch 19/20\n",
      "266/266 [==============================] - 6s 23ms/step - loss: 0.1020 - accuracy: 0.9396 - val_loss: 1.4670 - val_accuracy: 0.7459\n",
      "Epoch 20/20\n",
      "266/266 [==============================] - 6s 22ms/step - loss: 0.1011 - accuracy: 0.9403 - val_loss: 1.5012 - val_accuracy: 0.7456\n"
     ]
    }
   ],
   "source": [
    "model.compile(optimizer='adam',\n",
    "              loss='binary_crossentropy',\n",
    "              metrics=['accuracy'])\n",
    "              \n",
    "epochs=20  # 몇 epoch를 훈련하면 좋을지 결과를 보면서 바꾸어 봅시다. \n",
    "\n",
    "history = model.fit(partial_x_train,\n",
    "                    partial_y_train,\n",
    "                    epochs=epochs,\n",
    "                    batch_size=512,\n",
    "                    validation_data=(x_val, y_val),\n",
    "                    verbose=1)"
   ]
  },
  {
   "cell_type": "code",
   "execution_count": 51,
   "id": "fluid-calculation",
   "metadata": {},
   "outputs": [
    {
     "name": "stdout",
     "output_type": "stream",
     "text": [
      "1537/1537 - 6s - loss: 1.4816 - accuracy: 0.7467\n",
      "[1.481640100479126, 0.7467095255851746]\n"
     ]
    }
   ],
   "source": [
    "results = model.evaluate(X_test,  y_test, verbose=2)\n",
    "\n",
    "print(results)"
   ]
  },
  {
   "cell_type": "markdown",
   "id": "homeless-sudan",
   "metadata": {},
   "source": [
    "## 6) Loss, Accuracy 그래프 시각화"
   ]
  },
  {
   "cell_type": "code",
   "execution_count": 53,
   "id": "representative-response",
   "metadata": {},
   "outputs": [
    {
     "data": {
      "image/png": "[encoded data removed]",
      "text/plain": [
       "<Figure size 432x288 with 1 Axes>"
      ]
     },
     "metadata": {
      "needs_background": "light"
     },
     "output_type": "display_data"
    }
   ],
   "source": [
    "import matplotlib.pyplot as plt\n",
    "\n",
    "acc = history.history['accuracy']\n",
    "val_acc = history.history['val_accuracy']\n",
    "loss = history.history['loss']\n",
    "val_loss = history.history['val_loss']\n",
    "\n",
    "epochs = range(1, len(acc) + 1)\n",
    "\n",
    "# \"bo\"는 \"파란색 점\"입니다\n",
    "plt.plot(epochs, loss, 'bo', label='Training loss')\n",
    "# b는 \"파란 실선\"입니다\n",
    "plt.plot(epochs, val_loss, 'b', label='Validation loss')\n",
    "plt.title('Training and validation loss')\n",
    "plt.xlabel('Epochs')\n",
    "plt.ylabel('Loss')\n",
    "plt.legend()\n",
    "\n",
    "plt.show()"
   ]
  },
  {
   "cell_type": "code",
   "execution_count": 54,
   "id": "regulation-botswana",
   "metadata": {},
   "outputs": [
    {
     "data": {
      "image/png": "[encoded data removed]",
      "text/plain": [
       "<Figure size 432x288 with 1 Axes>"
      ]
     },
     "metadata": {
      "needs_background": "light"
     },
     "output_type": "display_data"
    }
   ],
   "source": [
    "plt.clf()   # 그림을 초기화합니다\n",
    "\n",
    "plt.plot(epochs, acc, 'bo', label='Training acc')\n",
    "plt.plot(epochs, val_acc, 'b', label='Validation acc')\n",
    "plt.title('Training and validation accuracy')\n",
    "plt.xlabel('Epochs')\n",
    "plt.ylabel('Accuracy')\n",
    "plt.legend()\n",
    "\n",
    "plt.show()"
   ]
  },
  {
   "cell_type": "markdown",
   "id": "supposed-bangladesh",
   "metadata": {},
   "source": [
    "## 7) 학습된 Embedding 레이어 분석"
   ]
  },
  {
   "cell_type": "code",
   "execution_count": 55,
   "id": "reverse-prefix",
   "metadata": {},
   "outputs": [
    {
     "name": "stdout",
     "output_type": "stream",
     "text": [
      "(10000, 100)\n"
     ]
    }
   ],
   "source": [
    "embedding_layer = model.layers[0]\n",
    "weights = embedding_layer.get_weights()[0]\n",
    "print(weights.shape)    # shape: (vocab_size, embedding_dim)"
   ]
  },
  {
   "cell_type": "code",
   "execution_count": 56,
   "id": "determined-peeing",
   "metadata": {},
   "outputs": [],
   "source": [
    "import os\n",
    "\n",
    "# 학습한 Embedding 파라미터를 파일에 써서 저장합니다. \n",
    "word2vec_file_path = os.getenv('HOME')+'/aiffel/sentiment_classification/data/word2vec.txt'\n",
    "f = open(word2vec_file_path, 'w')\n",
    "f.write('{} {}\\n'.format(vocab_size-4, word_vector_dim))  # 몇개의 벡터를 얼마 사이즈로 기재할지 타이틀을 씁니다.\n",
    "\n",
    "# 단어 개수(에서 특수문자 4개는 제외하고)만큼의 워드 벡터를 파일에 기록합니다. \n",
    "vectors = model.get_weights()[0]\n",
    "for i in range(4,vocab_size):\n",
    "    f.write('{} {}\\n'.format(index_to_word[i], ' '.join(map(str, list(vectors[i, :])))))\n",
    "f.close()"
   ]
  },
  {
   "cell_type": "code",
   "execution_count": 59,
   "id": "related-cameroon",
   "metadata": {
    "scrolled": true
   },
   "outputs": [
    {
     "data": {
      "text/plain": [
       "array([ 0.00029031,  0.05046954,  0.04061382, -0.05613692,  0.03706778,\n",
       "        0.00553889, -0.03591449,  0.04180273,  0.05565188, -0.10885328,\n",
       "       -0.01883481, -0.100069  , -0.0321345 , -0.07206215,  0.1872433 ,\n",
       "       -0.04890811,  0.01252674, -0.07293187,  0.16837628, -0.0830813 ,\n",
       "        0.04636694,  0.09115018, -0.11808152, -0.06413104, -0.0353529 ,\n",
       "        0.02874046,  0.20507602, -0.03578813, -0.14719257,  0.02711112,\n",
       "       -0.02451355,  0.14338693, -0.06511319,  0.0262769 ,  0.02507361,\n",
       "       -0.06549697, -0.03236672,  0.12715873, -0.07297161,  0.08171759,\n",
       "        0.10524162, -0.12295517,  0.10595667,  0.01000145,  0.00668571,\n",
       "       -0.02400471, -0.04482238,  0.00353443,  0.06502837,  0.03967701,\n",
       "        0.15089194,  0.00239917, -0.09810237, -0.09678426, -0.09134007,\n",
       "       -0.12316646,  0.02830409, -0.07161871,  0.11015457, -0.01201164,\n",
       "        0.05824914,  0.04525292, -0.00544359,  0.12377141, -0.18094036,\n",
       "        0.05730632, -0.1355027 ,  0.1102135 ,  0.04720941, -0.07144545,\n",
       "        0.02842418, -0.13963725,  0.04881163,  0.0504448 ,  0.07165395,\n",
       "       -0.00094347, -0.11753339, -0.0307402 ,  0.03878144, -0.00232056,\n",
       "        0.03787385,  0.02394056,  0.04582027, -0.02231719,  0.08239297,\n",
       "       -0.06865415, -0.07509825, -0.04844319, -0.08242353, -0.07959971,\n",
       "       -0.05031923, -0.08720268, -0.06885982,  0.14925267,  0.00316574,\n",
       "        0.03117991, -0.09954651, -0.08933642, -0.04741332, -0.08788093],\n",
       "      dtype=float32)"
      ]
     },
     "execution_count": 59,
     "metadata": {},
     "output_type": "execute_result"
    }
   ],
   "source": [
    "from gensim.models.keyedvectors import Word2VecKeyedVectors\n",
    "\n",
    "word_vectors = Word2VecKeyedVectors.load_word2vec_format(word2vec_file_path, binary=False)\n",
    "vector = word_vectors['사랑']\n",
    "vector"
   ]
  },
  {
   "cell_type": "code",
   "execution_count": 60,
   "id": "killing-shark",
   "metadata": {},
   "outputs": [
    {
     "data": {
      "text/plain": [
       "[('맞춰', 0.5889158844947815),\n",
       " ('오스카', 0.5815695524215698),\n",
       " ('수작', 0.5683230757713318),\n",
       " ('♥♥♥♥', 0.5587139129638672),\n",
       " ('흐뭇', 0.5416143536567688),\n",
       " ('지니', 0.5404002070426941),\n",
       " ('퍼지', 0.5373687148094177),\n",
       " ('최고', 0.5313001275062561),\n",
       " ('케이온', 0.5271182656288147),\n",
       " ('하루하루', 0.5210147500038147)]"
      ]
     },
     "execution_count": 60,
     "metadata": {},
     "output_type": "execute_result"
    }
   ],
   "source": [
    "word_vectors.similar_by_word(\"사랑\")"
   ]
  },
  {
   "cell_type": "markdown",
   "id": "optional-hartford",
   "metadata": {},
   "source": [
    "## 8) 한국어 Word2Vec 임베딩 활용하여 성능개선"
   ]
  },
  {
   "cell_type": "markdown",
   "id": "broadband-genius",
   "metadata": {},
   "source": [
    "### 한국어 Word2Vec 다운로드 받으려고 하니 액세스 권한 필요하다고 나옵니다. 권한 요청 보냈는데 당장 허가 이메일이 오지를 않네요. 오늘은 여기까지가 끝인가 봅니다."
   ]
  },
  {
   "cell_type": "markdown",
   "id": "unauthorized-world",
   "metadata": {},
   "source": [
    "# 후기"
   ]
  },
  {
   "cell_type": "markdown",
   "id": "narrow-break",
   "metadata": {},
   "source": [
    "### 코로나19 백신을 맞은 날, 아니 그 다음 날의 3시 30분(15시 30분 아님 주의), 나는 왜 새벽까지 이러고 있는가? 모두 나의 게으름과 부덕의 소치이겠지라고 하기엔 요즘 꽤나 빡세게 살고 있다. 새벽까지 이러고 있는 거라면 제출 기한을 못 맞춘 거라서 혹시 감점이라도 당하는 것일까? 사실 별점은 내려놓았으니까 큰 상관 없다. 백신 맞은 날은 잘 쉬라고 문자 메시지가 왔던데 설마 내일부터 몸져 눕는 건 아니겠지.\n",
    "\n",
    "### 왜 한국어 벡터 데이터는 다운로드 제한이 걸려있는 것일까? 다른 사람들은 별 문제 없었던 모양인데 지금 새벽에야 제한이 걸린 것일까? 생각해 보니 이건 분명 그만하고 쉬라는 하늘의 뜻이다.\n",
    "\n",
    "### 그럴듯한 결과물을 만들어내는 거 같지만 과연 나는 이 과제를 통하여 무엇을 배운 것일까? 투자한 시간만큼, 그만큼 배우고 얻어간 것일까? 결코 아니다. 제대로 배우면서 하기에는 시간이 너무 많이 걸린다. 내가 지금 하는 방식은 그저 복사, 붙여넣기의 향연에 가깝다. 시간만 좀 들일 수 있다면, 천천히 천천히 할 수 있다면 훨씬 많은 걸 배울 수 있을 텐데... 내가 지금 추구하는 것은 완벽주의가 아니다. 적절한 시간 투자로 적절한 만큼 배우고 싶을 뿐이다. 보다 준비된 다른 사람들은 잘 따라갈 수 있겠지만, 이와 같은 수박 겉핥기 식의 현실은 나에게는 나아갈 길이 아닌 것 같다.\n",
    "\n",
    "### 잎새에 이는 바람에도 나는 괴로워 하고 오늘밤에도 별이 바람에 스치운다."
   ]
  }
 ],
 "metadata": {
  "kernelspec": {
   "display_name": "Python 3",
   "language": "python",
   "name": "python3"
  },
  "language_info": {
   "codemirror_mode": {
    "name": "ipython",
    "version": 3
   },
   "file_extension": ".py",
   "mimetype": "text/x-python",
   "name": "python",
   "nbconvert_exporter": "python",
   "pygments_lexer": "ipython3",
   "version": "3.7.9"
  }
 },
 "nbformat": 4,
 "nbformat_minor": 5
}
