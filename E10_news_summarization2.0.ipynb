{
 "cells": [
  {
   "cell_type": "markdown",
   "id": "junior-secretary",
   "metadata": {},
   "source": [
    "# 프로젝트: 뉴스기사 요약해보기"
   ]
  },
  {
   "cell_type": "markdown",
   "id": "equal-fitting",
   "metadata": {},
   "source": [
    "## Step 1. 데이터 수집하기"
   ]
  },
  {
   "cell_type": "code",
   "execution_count": 2,
   "id": "lasting-prize",
   "metadata": {},
   "outputs": [],
   "source": [
    "import pandas as pd\n",
    "\n",
    "import urllib.request\n",
    "urllib.request.urlretrieve(\"https://raw.githubusercontent.com/sunnysai12345/News_Summary/master/news_summary_more.csv\", filename=\"news_summary_more.csv\")\n",
    "data = pd.read_csv('news_summary_more.csv', encoding='iso-8859-1')"
   ]
  },
  {
   "cell_type": "code",
   "execution_count": 3,
   "id": "talented-disposition",
   "metadata": {},
   "outputs": [
    {
     "data": {
      "text/html": [
       "<div>\n",
       "<style scoped>\n",
       "    .dataframe tbody tr th:only-of-type {\n",
       "        vertical-align: middle;\n",
       "    }\n",
       "\n",
       "    .dataframe tbody tr th {\n",
       "        vertical-align: top;\n",
       "    }\n",
       "\n",
       "    .dataframe thead th {\n",
       "        text-align: right;\n",
       "    }\n",
       "</style>\n",
       "<table border=\"1\" class=\"dataframe\">\n",
       "  <thead>\n",
       "    <tr style=\"text-align: right;\">\n",
       "      <th></th>\n",
       "      <th>headlines</th>\n",
       "      <th>text</th>\n",
       "    </tr>\n",
       "  </thead>\n",
       "  <tbody>\n",
       "    <tr>\n",
       "      <th>16031</th>\n",
       "      <td>9 accused of kidnapping Kannada actor 18 yrs a...</td>\n",
       "      <td>A court in Tamil Nadu on Tuesday acquitted nin...</td>\n",
       "    </tr>\n",
       "    <tr>\n",
       "      <th>15183</th>\n",
       "      <td>SBI cuts daily ATM withdrawal limit from Ã¢ÂÂ...</td>\n",
       "      <td>State Bank of India (SBI) has reduced the cash...</td>\n",
       "    </tr>\n",
       "    <tr>\n",
       "      <th>79015</th>\n",
       "      <td>Passenger arrested after trying to open plane ...</td>\n",
       "      <td>A man was arrested at London Luton Airport aft...</td>\n",
       "    </tr>\n",
       "    <tr>\n",
       "      <th>82338</th>\n",
       "      <td>SC stays criminal contempt proceedings against...</td>\n",
       "      <td>The Supreme Court on Monday stayed criminal co...</td>\n",
       "    </tr>\n",
       "    <tr>\n",
       "      <th>59396</th>\n",
       "      <td>Woman suffering from cancer wins Ã¢ÂÂ¹7.6 cro...</td>\n",
       "      <td>A Canadian woman suffering from stage 4 breast...</td>\n",
       "    </tr>\n",
       "    <tr>\n",
       "      <th>39195</th>\n",
       "      <td>Video: Locals harass lioness with chicken as b...</td>\n",
       "      <td>A video showing locals harassing a hungry lion...</td>\n",
       "    </tr>\n",
       "    <tr>\n",
       "      <th>23427</th>\n",
       "      <td>Dwayne Johnson gifts his stunt double a Ford p...</td>\n",
       "      <td>Hollywood actor Dwayne Johnson gifted his stun...</td>\n",
       "    </tr>\n",
       "    <tr>\n",
       "      <th>29229</th>\n",
       "      <td>I fear my daughters will ask me the meaning of...</td>\n",
       "      <td>Talking about child rape cases in India, India...</td>\n",
       "    </tr>\n",
       "    <tr>\n",
       "      <th>54205</th>\n",
       "      <td>17-yr-old militant recorded video before Pulwa...</td>\n",
       "      <td>Pakistan-based Jaish-e-Mohammed has released a...</td>\n",
       "    </tr>\n",
       "    <tr>\n",
       "      <th>23418</th>\n",
       "      <td>Apple now has $243.7 billion in cash on hand</td>\n",
       "      <td>World's most valuable company by market value,...</td>\n",
       "    </tr>\n",
       "  </tbody>\n",
       "</table>\n",
       "</div>"
      ],
      "text/plain": [
       "                                               headlines  \\\n",
       "16031  9 accused of kidnapping Kannada actor 18 yrs a...   \n",
       "15183  SBI cuts daily ATM withdrawal limit from Ã¢ÂÂ...   \n",
       "79015  Passenger arrested after trying to open plane ...   \n",
       "82338  SC stays criminal contempt proceedings against...   \n",
       "59396  Woman suffering from cancer wins Ã¢ÂÂ¹7.6 cro...   \n",
       "39195  Video: Locals harass lioness with chicken as b...   \n",
       "23427  Dwayne Johnson gifts his stunt double a Ford p...   \n",
       "29229  I fear my daughters will ask me the meaning of...   \n",
       "54205  17-yr-old militant recorded video before Pulwa...   \n",
       "23418       Apple now has $243.7 billion in cash on hand   \n",
       "\n",
       "                                                    text  \n",
       "16031  A court in Tamil Nadu on Tuesday acquitted nin...  \n",
       "15183  State Bank of India (SBI) has reduced the cash...  \n",
       "79015  A man was arrested at London Luton Airport aft...  \n",
       "82338  The Supreme Court on Monday stayed criminal co...  \n",
       "59396  A Canadian woman suffering from stage 4 breast...  \n",
       "39195  A video showing locals harassing a hungry lion...  \n",
       "23427  Hollywood actor Dwayne Johnson gifted his stun...  \n",
       "29229  Talking about child rape cases in India, India...  \n",
       "54205  Pakistan-based Jaish-e-Mohammed has released a...  \n",
       "23418  World's most valuable company by market value,...  "
      ]
     },
     "execution_count": 3,
     "metadata": {},
     "output_type": "execute_result"
    }
   ],
   "source": [
    "data.sample(10)"
   ]
  },
  {
   "cell_type": "markdown",
   "id": "sophisticated-silicon",
   "metadata": {},
   "source": [
    "## Step 2. 데이터 전처리하기 (추상적 요약)"
   ]
  },
  {
   "cell_type": "code",
   "execution_count": 4,
   "id": "universal-halifax",
   "metadata": {},
   "outputs": [
    {
     "name": "stderr",
     "output_type": "stream",
     "text": [
      "[nltk_data] Downloading package stopwords to /aiffel/nltk_data...\n",
      "[nltk_data]   Unzipping corpora/stopwords.zip.\n"
     ]
    }
   ],
   "source": [
    "import nltk\n",
    "nltk.download('stopwords')\n",
    "\n",
    "import numpy as np\n",
    "import re\n",
    "import matplotlib.pyplot as plt\n",
    "from nltk.corpus import stopwords\n",
    "from bs4 import BeautifulSoup \n",
    "from tensorflow.keras.preprocessing.text import Tokenizer \n",
    "from tensorflow.keras.preprocessing.sequence import pad_sequences\n",
    "import warnings\n",
    "warnings.filterwarnings(\"ignore\", category=UserWarning, module='bs4')"
   ]
  },
  {
   "cell_type": "code",
   "execution_count": 5,
   "id": "directed-dependence",
   "metadata": {},
   "outputs": [
    {
     "name": "stdout",
     "output_type": "stream",
     "text": [
      "text 열에서 중복을 배제한 유일한 샘플의 수 : 98360\n",
      "headlines 열에서 중복을 배제한 유일한 샘플의 수 : 98280\n"
     ]
    }
   ],
   "source": [
    "print('text 열에서 중복을 배제한 유일한 샘플의 수 :', data['text'].nunique())\n",
    "print('headlines 열에서 중복을 배제한 유일한 샘플의 수 :', data['headlines'].nunique())"
   ]
  },
  {
   "cell_type": "code",
   "execution_count": 6,
   "id": "adjusted-earthquake",
   "metadata": {},
   "outputs": [
    {
     "name": "stdout",
     "output_type": "stream",
     "text": [
      "전체 샘플수 : 98360\n"
     ]
    }
   ],
   "source": [
    "# inplace=True 를 설정하면 DataFrame 타입 값을 return 하지 않고 data 내부를 직접적으로 바꿉니다\n",
    "data.drop_duplicates(subset = ['text'], inplace=True)\n",
    "print('전체 샘플수 :', (len(data)))"
   ]
  },
  {
   "cell_type": "code",
   "execution_count": 7,
   "id": "brazilian-michael",
   "metadata": {},
   "outputs": [
    {
     "name": "stdout",
     "output_type": "stream",
     "text": [
      "headlines    0\n",
      "text         0\n",
      "dtype: int64\n"
     ]
    }
   ],
   "source": [
    "print(data.isnull().sum())"
   ]
  },
  {
   "cell_type": "code",
   "execution_count": 8,
   "id": "expected-pantyhose",
   "metadata": {},
   "outputs": [
    {
     "name": "stdout",
     "output_type": "stream",
     "text": [
      "정규화 사전의 수:  120\n"
     ]
    }
   ],
   "source": [
    "contractions = {\"ain't\": \"is not\", \"aren't\": \"are not\",\"can't\": \"cannot\", \"'cause\": \"because\", \"could've\": \"could have\", \"couldn't\": \"could not\",\n",
    "                           \"didn't\": \"did not\",  \"doesn't\": \"does not\", \"don't\": \"do not\", \"hadn't\": \"had not\", \"hasn't\": \"has not\", \"haven't\": \"have not\",\n",
    "                           \"he'd\": \"he would\",\"he'll\": \"he will\", \"he's\": \"he is\", \"how'd\": \"how did\", \"how'd'y\": \"how do you\", \"how'll\": \"how will\", \"how's\": \"how is\",\n",
    "                           \"I'd\": \"I would\", \"I'd've\": \"I would have\", \"I'll\": \"I will\", \"I'll've\": \"I will have\",\"I'm\": \"I am\", \"I've\": \"I have\", \"i'd\": \"i would\",\n",
    "                           \"i'd've\": \"i would have\", \"i'll\": \"i will\",  \"i'll've\": \"i will have\",\"i'm\": \"i am\", \"i've\": \"i have\", \"isn't\": \"is not\", \"it'd\": \"it would\",\n",
    "                           \"it'd've\": \"it would have\", \"it'll\": \"it will\", \"it'll've\": \"it will have\",\"it's\": \"it is\", \"let's\": \"let us\", \"ma'am\": \"madam\",\n",
    "                           \"mayn't\": \"may not\", \"might've\": \"might have\",\"mightn't\": \"might not\",\"mightn't've\": \"might not have\", \"must've\": \"must have\",\n",
    "                           \"mustn't\": \"must not\", \"mustn't've\": \"must not have\", \"needn't\": \"need not\", \"needn't've\": \"need not have\",\"o'clock\": \"of the clock\",\n",
    "                           \"oughtn't\": \"ought not\", \"oughtn't've\": \"ought not have\", \"shan't\": \"shall not\", \"sha'n't\": \"shall not\", \"shan't've\": \"shall not have\",\n",
    "                           \"she'd\": \"she would\", \"she'd've\": \"she would have\", \"she'll\": \"she will\", \"she'll've\": \"she will have\", \"she's\": \"she is\",\n",
    "                           \"should've\": \"should have\", \"shouldn't\": \"should not\", \"shouldn't've\": \"should not have\", \"so've\": \"so have\",\"so's\": \"so as\",\n",
    "                           \"this's\": \"this is\",\"that'd\": \"that would\", \"that'd've\": \"that would have\", \"that's\": \"that is\", \"there'd\": \"there would\",\n",
    "                           \"there'd've\": \"there would have\", \"there's\": \"there is\", \"here's\": \"here is\",\"they'd\": \"they would\", \"they'd've\": \"they would have\",\n",
    "                           \"they'll\": \"they will\", \"they'll've\": \"they will have\", \"they're\": \"they are\", \"they've\": \"they have\", \"to've\": \"to have\",\n",
    "                           \"wasn't\": \"was not\", \"we'd\": \"we would\", \"we'd've\": \"we would have\", \"we'll\": \"we will\", \"we'll've\": \"we will have\", \"we're\": \"we are\",\n",
    "                           \"we've\": \"we have\", \"weren't\": \"were not\", \"what'll\": \"what will\", \"what'll've\": \"what will have\", \"what're\": \"what are\",\n",
    "                           \"what's\": \"what is\", \"what've\": \"what have\", \"when's\": \"when is\", \"when've\": \"when have\", \"where'd\": \"where did\", \"where's\": \"where is\",\n",
    "                           \"where've\": \"where have\", \"who'll\": \"who will\", \"who'll've\": \"who will have\", \"who's\": \"who is\", \"who've\": \"who have\",\n",
    "                           \"why's\": \"why is\", \"why've\": \"why have\", \"will've\": \"will have\", \"won't\": \"will not\", \"won't've\": \"will not have\",\n",
    "                           \"would've\": \"would have\", \"wouldn't\": \"would not\", \"wouldn't've\": \"would not have\", \"y'all\": \"you all\",\n",
    "                           \"y'all'd\": \"you all would\",\"y'all'd've\": \"you all would have\",\"y'all're\": \"you all are\",\"y'all've\": \"you all have\",\n",
    "                           \"you'd\": \"you would\", \"you'd've\": \"you would have\", \"you'll\": \"you will\", \"you'll've\": \"you will have\",\n",
    "                           \"you're\": \"you are\", \"you've\": \"you have\"}\n",
    "\n",
    "print(\"정규화 사전의 수: \", len(contractions))"
   ]
  },
  {
   "cell_type": "code",
   "execution_count": 9,
   "id": "union-potato",
   "metadata": {},
   "outputs": [
    {
     "name": "stdout",
     "output_type": "stream",
     "text": [
      "불용어 개수 : 179\n",
      "['i', 'me', 'my', 'myself', 'we', 'our', 'ours', 'ourselves', 'you', \"you're\", \"you've\", \"you'll\", \"you'd\", 'your', 'yours', 'yourself', 'yourselves', 'he', 'him', 'his', 'himself', 'she', \"she's\", 'her', 'hers', 'herself', 'it', \"it's\", 'its', 'itself', 'they', 'them', 'their', 'theirs', 'themselves', 'what', 'which', 'who', 'whom', 'this', 'that', \"that'll\", 'these', 'those', 'am', 'is', 'are', 'was', 'were', 'be', 'been', 'being', 'have', 'has', 'had', 'having', 'do', 'does', 'did', 'doing', 'a', 'an', 'the', 'and', 'but', 'if', 'or', 'because', 'as', 'until', 'while', 'of', 'at', 'by', 'for', 'with', 'about', 'against', 'between', 'into', 'through', 'during', 'before', 'after', 'above', 'below', 'to', 'from', 'up', 'down', 'in', 'out', 'on', 'off', 'over', 'under', 'again', 'further', 'then', 'once', 'here', 'there', 'when', 'where', 'why', 'how', 'all', 'any', 'both', 'each', 'few', 'more', 'most', 'other', 'some', 'such', 'no', 'nor', 'not', 'only', 'own', 'same', 'so', 'than', 'too', 'very', 's', 't', 'can', 'will', 'just', 'don', \"don't\", 'should', \"should've\", 'now', 'd', 'll', 'm', 'o', 're', 've', 'y', 'ain', 'aren', \"aren't\", 'couldn', \"couldn't\", 'didn', \"didn't\", 'doesn', \"doesn't\", 'hadn', \"hadn't\", 'hasn', \"hasn't\", 'haven', \"haven't\", 'isn', \"isn't\", 'ma', 'mightn', \"mightn't\", 'mustn', \"mustn't\", 'needn', \"needn't\", 'shan', \"shan't\", 'shouldn', \"shouldn't\", 'wasn', \"wasn't\", 'weren', \"weren't\", 'won', \"won't\", 'wouldn', \"wouldn't\"]\n"
     ]
    }
   ],
   "source": [
    "print('불용어 개수 :', len(stopwords.words('english') ))\n",
    "print(stopwords.words('english'))"
   ]
  },
  {
   "cell_type": "code",
   "execution_count": 10,
   "id": "associate-emperor",
   "metadata": {},
   "outputs": [],
   "source": [
    "# 데이터 전처리 함수\n",
    "def preprocess_sentence(sentence, remove_stopwords=True):\n",
    "    sentence = sentence.lower() # 텍스트 소문자화\n",
    "    sentence = BeautifulSoup(sentence, \"lxml\").text # <br />, <a href = ...> 등의 html 태그 제거\n",
    "    sentence = re.sub(r'\\([^)]*\\)', '', sentence) # 괄호로 닫힌 문자열 (...) 제거 Ex) my husband (and myself!) for => my husband for\n",
    "    sentence = re.sub('\"','', sentence) # 쌍따옴표 \" 제거\n",
    "    sentence = ' '.join([contractions[t] if t in contractions else t for t in sentence.split(\" \")]) # 약어 정규화\n",
    "    sentence = re.sub(r\"'s\\b\",\"\", sentence) # 소유격 제거. Ex) roland's -> roland\n",
    "    sentence = re.sub(\"[^a-zA-Z]\", \" \", sentence) # 영어 외 문자(숫자, 특수문자 등) 공백으로 변환\n",
    "    sentence = re.sub('[m]{2,}', 'mm', sentence) # m이 3개 이상이면 2개로 변경. Ex) ummmmmmm yeah -> umm yeah\n",
    "    \n",
    "    # 불용어 제거 (Text)\n",
    "    if remove_stopwords:\n",
    "        tokens = ' '.join(word for word in sentence.split() if not word in stopwords.words('english') if len(word) > 1)\n",
    "    # 불용어 미제거 (Summary)\n",
    "    else:\n",
    "        tokens = ' '.join(word for word in sentence.split() if len(word) > 1)\n",
    "    return tokens"
   ]
  },
  {
   "cell_type": "code",
   "execution_count": 11,
   "id": "capable-percentage",
   "metadata": {},
   "outputs": [],
   "source": [
    "import multiprocessing as mp   # 멀티 프로세싱으로 전처리 속도를 획기적으로 줄여봅시다\n",
    "from multiprocessing import Pool\n",
    "import time\n",
    "from functools import partial  # map을 할 때 함수에 여러 인자를 넣어줄 수 있도록 합니다\n",
    "\n",
    "start = time.time()\n",
    "\n",
    "# num_cores 만큼 쪼개진 데이터를 전처리하여 반환합니다\n",
    "def appendTexts(sentences, remove_stopwords):\n",
    "  texts = []\n",
    "  for s in sentences:\n",
    "    texts += preprocess_sentence(s, remove_stopwords),\n",
    "  return texts\n",
    "\n",
    "def preprocess_data(data, remove_stopwords=True):\n",
    "  start_time = time.time()\n",
    "  num_cores = mp.cpu_count()  # 컴퓨터의 코어 수를 구합니다\n",
    "\n",
    "  text_data_split = np.array_split(data, num_cores)  # 코어 수만큼 데이터를 배분하여 병렬적으로 처리할 수 있게 합니다\n",
    "  pool = Pool(num_cores)\n",
    "\n",
    "  processed_data = np.concatenate(pool.map(partial(appendTexts, remove_stopwords=remove_stopwords), text_data_split))  # 각자 작업한 데이터를 하나로 합쳐줍니다\n",
    "  pool.close()\n",
    "  pool.join()\n",
    "  print(time.time() - start_time, \" seconds\")\n",
    "  return processed_data"
   ]
  },
  {
   "cell_type": "code",
   "execution_count": 12,
   "id": "adapted-differential",
   "metadata": {},
   "outputs": [
    {
     "name": "stdout",
     "output_type": "stream",
     "text": [
      "425.15587997436523  seconds\n",
      "['saurav kant alumnus upgrad iiit pg program machine learning artificial intelligence sr systems engineer infosys almost years work experience program upgrad degree career support helped transition data scientist tech mahindra salary hike upgrad online power learning powered lakh careers'\n",
      " 'kunal shah credit card bill payment platform cred gave users chance win free food swiggy one year pranav kaushik delhi techie bagged reward spending cred coins users get one cred coin per rupee bill paid used avail rewards brands like ixigo bookmyshow ubereats cult fit'\n",
      " 'new zealand defeated india wickets fourth odi hamilton thursday win first match five match odi series india lost international match rohit sharma captaincy consecutive victories dating back march match witnessed india getting seventh lowest total odi cricket history'\n",
      " ...\n",
      " 'according reports new version science fiction film matrix development michael jordan reportedly play lead role film screenwriter zak penn talks write script film reports added actor keanu reeves starred original film followed two sequels'\n",
      " 'new music video shows rapper snoop dogg aiming toy gun clown character parodying us president donald trump video also shows tv airing news conference headline ronald klump wants deport doggs airing live clown house video remixed version song lavender'\n",
      " 'madhesi morcha alliance seven political parties withdrawn support pm pushpa kamal dahal led nepal government failed meet seven day ultimatum fulfil demands including endorsement revised constitution amendment bill morcha seats parliament despite withdrawal support immediate threat government']\n"
     ]
    }
   ],
   "source": [
    "clean_text = preprocess_data(data['text'])  # 클라우드 기준으로 3~4분 정도 소요 됩니다\n",
    "print(clean_text)"
   ]
  },
  {
   "cell_type": "code",
   "execution_count": 13,
   "id": "configured-calcium",
   "metadata": {
    "scrolled": true
   },
   "outputs": [
    {
     "name": "stdout",
     "output_type": "stream",
     "text": [
      "13.00754165649414  seconds\n",
      "['upgrad learner switches to career in ml al with salary hike'\n",
      " 'delhi techie wins free food from swiggy for one year on cred'\n",
      " 'new zealand end rohit sharma led india match winning streak' ...\n",
      " 'the matrix film to get reboot reports'\n",
      " 'snoop dogg aims gun at clown dressed as trump in new video'\n",
      " 'madhesi morcha withdraws support to nepalese government']\n"
     ]
    }
   ],
   "source": [
    "clean_summary = preprocess_data(data['headlines'], remove_stopwords=False) # 클라우드 기준 1분정도 소요됩니다.\n",
    "print(clean_summary)"
   ]
  },
  {
   "cell_type": "code",
   "execution_count": 14,
   "id": "sufficient-country",
   "metadata": {},
   "outputs": [],
   "source": [
    "data['text'] = clean_text\n",
    "data['headlines'] = clean_summary\n",
    "\n",
    "# 빈 값을 Null 값으로 변환\n",
    "data.replace('', np.nan, inplace=True)"
   ]
  },
  {
   "cell_type": "code",
   "execution_count": 15,
   "id": "confident-liberia",
   "metadata": {},
   "outputs": [
    {
     "data": {
      "text/plain": [
       "headlines    0\n",
       "text         0\n",
       "dtype: int64"
      ]
     },
     "execution_count": 15,
     "metadata": {},
     "output_type": "execute_result"
    }
   ],
   "source": [
    "data.isnull().sum()"
   ]
  },
  {
   "cell_type": "code",
   "execution_count": 16,
   "id": "worthy-cache",
   "metadata": {
    "scrolled": false
   },
   "outputs": [
    {
     "name": "stdout",
     "output_type": "stream",
     "text": [
      "텍스트의 최소 길이 : 1\n",
      "텍스트의 최대 길이 : 60\n",
      "텍스트의 평균 길이 : 35.09968483123221\n",
      "요약의 최소 길이 : 1\n",
      "요약의 최대 길이 : 16\n",
      "요약의 평균 길이 : 9.299532330215534\n"
     ]
    },
    {
     "data": {
      "image/png": "[encoded data removed]",
      "text/plain": [
       "<Figure size 432x288 with 2 Axes>"
      ]
     },
     "metadata": {
      "needs_background": "light"
     },
     "output_type": "display_data"
    },
    {
     "data": {
      "image/png": "[encoded data removed]",
      "text/plain": [
       "<Figure size 432x288 with 1 Axes>"
      ]
     },
     "metadata": {
      "needs_background": "light"
     },
     "output_type": "display_data"
    },
    {
     "data": {
      "image/png": "[encoded data removed]",
      "text/plain": [
       "<Figure size 432x288 with 1 Axes>"
      ]
     },
     "metadata": {
      "needs_background": "light"
     },
     "output_type": "display_data"
    }
   ],
   "source": [
    "# 길이 분포 출력\n",
    "import matplotlib.pyplot as plt\n",
    "\n",
    "text_len = [len(s.split()) for s in data['text']]\n",
    "summary_len = [len(s.split()) for s in data['headlines']]\n",
    "\n",
    "print('텍스트의 최소 길이 : {}'.format(np.min(text_len)))\n",
    "print('텍스트의 최대 길이 : {}'.format(np.max(text_len)))\n",
    "print('텍스트의 평균 길이 : {}'.format(np.mean(text_len)))\n",
    "print('요약의 최소 길이 : {}'.format(np.min(summary_len)))\n",
    "print('요약의 최대 길이 : {}'.format(np.max(summary_len)))\n",
    "print('요약의 평균 길이 : {}'.format(np.mean(summary_len)))\n",
    "\n",
    "plt.subplot(1,2,1)\n",
    "plt.boxplot(text_len)\n",
    "plt.title('Text')\n",
    "plt.subplot(1,2,2)\n",
    "plt.boxplot(summary_len)\n",
    "plt.title('Summary')\n",
    "plt.tight_layout()\n",
    "plt.show()\n",
    "\n",
    "plt.title('Text')\n",
    "plt.hist(text_len, bins = 40)\n",
    "plt.xlabel('length of samples')\n",
    "plt.ylabel('number of samples')\n",
    "plt.show()\n",
    "\n",
    "plt.title('Summary')\n",
    "plt.hist(summary_len, bins = 40)\n",
    "plt.xlabel('length of samples')\n",
    "plt.ylabel('number of samples')\n",
    "plt.show()"
   ]
  },
  {
   "cell_type": "code",
   "execution_count": 17,
   "id": "taken-chemical",
   "metadata": {},
   "outputs": [],
   "source": [
    "text_max_len = 47\n",
    "summary_max_len = 14"
   ]
  },
  {
   "cell_type": "code",
   "execution_count": 18,
   "id": "reasonable-rhythm",
   "metadata": {},
   "outputs": [],
   "source": [
    "def below_threshold_len(max_len, nested_list):\n",
    "  cnt = 0\n",
    "  for s in nested_list:\n",
    "    if(len(s.split()) <= max_len):\n",
    "        cnt = cnt + 1\n",
    "  print('전체 샘플 중 길이가 %s 이하인 샘플의 비율: %s'%(max_len, (cnt / len(nested_list))))"
   ]
  },
  {
   "cell_type": "code",
   "execution_count": 19,
   "id": "planned-vienna",
   "metadata": {},
   "outputs": [
    {
     "name": "stdout",
     "output_type": "stream",
     "text": [
      "전체 샘플 중 길이가 47 이하인 샘플의 비율: 0.9992476616510777\n",
      "전체 샘플 중 길이가 14 이하인 샘플의 비율: 0.9997763318422123\n"
     ]
    }
   ],
   "source": [
    "below_threshold_len(text_max_len, data['text'])\n",
    "below_threshold_len(summary_max_len,  data['headlines'])"
   ]
  },
  {
   "cell_type": "code",
   "execution_count": 20,
   "id": "removed-tournament",
   "metadata": {},
   "outputs": [
    {
     "name": "stdout",
     "output_type": "stream",
     "text": [
      "전체 샘플수 : 98264\n"
     ]
    }
   ],
   "source": [
    "data = data[data['text'].apply(lambda x: len(x.split()) <= text_max_len)]\n",
    "data = data[data['headlines'].apply(lambda x: len(x.split()) <= summary_max_len)]\n",
    "print('전체 샘플수 :', (len(data)))"
   ]
  },
  {
   "cell_type": "code",
   "execution_count": 21,
   "id": "champion-growing",
   "metadata": {},
   "outputs": [
    {
     "data": {
      "text/html": [
       "<div>\n",
       "<style scoped>\n",
       "    .dataframe tbody tr th:only-of-type {\n",
       "        vertical-align: middle;\n",
       "    }\n",
       "\n",
       "    .dataframe tbody tr th {\n",
       "        vertical-align: top;\n",
       "    }\n",
       "\n",
       "    .dataframe thead th {\n",
       "        text-align: right;\n",
       "    }\n",
       "</style>\n",
       "<table border=\"1\" class=\"dataframe\">\n",
       "  <thead>\n",
       "    <tr style=\"text-align: right;\">\n",
       "      <th></th>\n",
       "      <th>headlines</th>\n",
       "      <th>text</th>\n",
       "      <th>decoder_input</th>\n",
       "      <th>decoder_target</th>\n",
       "    </tr>\n",
       "  </thead>\n",
       "  <tbody>\n",
       "    <tr>\n",
       "      <th>0</th>\n",
       "      <td>upgrad learner switches to career in ml al wit...</td>\n",
       "      <td>saurav kant alumnus upgrad iiit pg program mac...</td>\n",
       "      <td>sostoken upgrad learner switches to career in ...</td>\n",
       "      <td>upgrad learner switches to career in ml al wit...</td>\n",
       "    </tr>\n",
       "    <tr>\n",
       "      <th>1</th>\n",
       "      <td>delhi techie wins free food from swiggy for on...</td>\n",
       "      <td>kunal shah credit card bill payment platform c...</td>\n",
       "      <td>sostoken delhi techie wins free food from swig...</td>\n",
       "      <td>delhi techie wins free food from swiggy for on...</td>\n",
       "    </tr>\n",
       "    <tr>\n",
       "      <th>2</th>\n",
       "      <td>new zealand end rohit sharma led india match w...</td>\n",
       "      <td>new zealand defeated india wickets fourth odi ...</td>\n",
       "      <td>sostoken new zealand end rohit sharma led indi...</td>\n",
       "      <td>new zealand end rohit sharma led india match w...</td>\n",
       "    </tr>\n",
       "    <tr>\n",
       "      <th>3</th>\n",
       "      <td>aegon life iterm insurance plan helps customer...</td>\n",
       "      <td>aegon life iterm insurance plan customers enjo...</td>\n",
       "      <td>sostoken aegon life iterm insurance plan helps...</td>\n",
       "      <td>aegon life iterm insurance plan helps customer...</td>\n",
       "    </tr>\n",
       "    <tr>\n",
       "      <th>4</th>\n",
       "      <td>have known hirani for yrs what if metoo claims...</td>\n",
       "      <td>speaking sexual harassment allegations rajkuma...</td>\n",
       "      <td>sostoken have known hirani for yrs what if met...</td>\n",
       "      <td>have known hirani for yrs what if metoo claims...</td>\n",
       "    </tr>\n",
       "  </tbody>\n",
       "</table>\n",
       "</div>"
      ],
      "text/plain": [
       "                                           headlines  \\\n",
       "0  upgrad learner switches to career in ml al wit...   \n",
       "1  delhi techie wins free food from swiggy for on...   \n",
       "2  new zealand end rohit sharma led india match w...   \n",
       "3  aegon life iterm insurance plan helps customer...   \n",
       "4  have known hirani for yrs what if metoo claims...   \n",
       "\n",
       "                                                text  \\\n",
       "0  saurav kant alumnus upgrad iiit pg program mac...   \n",
       "1  kunal shah credit card bill payment platform c...   \n",
       "2  new zealand defeated india wickets fourth odi ...   \n",
       "3  aegon life iterm insurance plan customers enjo...   \n",
       "4  speaking sexual harassment allegations rajkuma...   \n",
       "\n",
       "                                       decoder_input  \\\n",
       "0  sostoken upgrad learner switches to career in ...   \n",
       "1  sostoken delhi techie wins free food from swig...   \n",
       "2  sostoken new zealand end rohit sharma led indi...   \n",
       "3  sostoken aegon life iterm insurance plan helps...   \n",
       "4  sostoken have known hirani for yrs what if met...   \n",
       "\n",
       "                                      decoder_target  \n",
       "0  upgrad learner switches to career in ml al wit...  \n",
       "1  delhi techie wins free food from swiggy for on...  \n",
       "2  new zealand end rohit sharma led india match w...  \n",
       "3  aegon life iterm insurance plan helps customer...  \n",
       "4  have known hirani for yrs what if metoo claims...  "
      ]
     },
     "execution_count": 21,
     "metadata": {},
     "output_type": "execute_result"
    }
   ],
   "source": [
    "# 요약 데이터에는 시작 토큰과 종료 토큰을 추가한다.\n",
    "data['decoder_input'] = data['headlines'].apply(lambda x : 'sostoken '+ x)\n",
    "data['decoder_target'] = data['headlines'].apply(lambda x : x + ' eostoken')\n",
    "data.head()"
   ]
  },
  {
   "cell_type": "code",
   "execution_count": 22,
   "id": "knowing-generic",
   "metadata": {},
   "outputs": [],
   "source": [
    "encoder_input = np.array(data['text']) # 인코더의 입력\n",
    "decoder_input = np.array(data['decoder_input']) # 디코더의 입력\n",
    "decoder_target = np.array(data['decoder_target']) # 디코더의 레이블"
   ]
  },
  {
   "cell_type": "code",
   "execution_count": 23,
   "id": "cloudy-extreme",
   "metadata": {},
   "outputs": [
    {
     "name": "stdout",
     "output_type": "stream",
     "text": [
      "[81402 48656 56750 ... 70451 51141 32272]\n"
     ]
    }
   ],
   "source": [
    "indices = np.arange(encoder_input.shape[0])\n",
    "np.random.shuffle(indices)\n",
    "print(indices)"
   ]
  },
  {
   "cell_type": "code",
   "execution_count": 24,
   "id": "biological-character",
   "metadata": {},
   "outputs": [],
   "source": [
    "encoder_input = encoder_input[indices]\n",
    "decoder_input = decoder_input[indices]\n",
    "decoder_target = decoder_target[indices]"
   ]
  },
  {
   "cell_type": "code",
   "execution_count": 25,
   "id": "twelve-portland",
   "metadata": {},
   "outputs": [
    {
     "name": "stdout",
     "output_type": "stream",
     "text": [
      "테스트 데이터의 수 : 19652\n"
     ]
    }
   ],
   "source": [
    "n_of_val = int(len(encoder_input)*0.2)\n",
    "print('테스트 데이터의 수 :', n_of_val)"
   ]
  },
  {
   "cell_type": "code",
   "execution_count": 26,
   "id": "great-communication",
   "metadata": {},
   "outputs": [
    {
     "name": "stdout",
     "output_type": "stream",
     "text": [
      "훈련 데이터의 개수 : 78612\n",
      "훈련 레이블의 개수 : 78612\n",
      "테스트 데이터의 개수 : 19652\n",
      "테스트 레이블의 개수 : 19652\n"
     ]
    }
   ],
   "source": [
    "encoder_input_train = encoder_input[:-n_of_val]\n",
    "decoder_input_train = decoder_input[:-n_of_val]\n",
    "decoder_target_train = decoder_target[:-n_of_val]\n",
    "\n",
    "encoder_input_test = encoder_input[-n_of_val:]\n",
    "decoder_input_test = decoder_input[-n_of_val:]\n",
    "decoder_target_test = decoder_target[-n_of_val:]\n",
    "\n",
    "print('훈련 데이터의 개수 :', len(encoder_input_train))\n",
    "print('훈련 레이블의 개수 :', len(decoder_input_train))\n",
    "print('테스트 데이터의 개수 :', len(encoder_input_test))\n",
    "print('테스트 레이블의 개수 :', len(decoder_input_test))"
   ]
  },
  {
   "cell_type": "code",
   "execution_count": 27,
   "id": "referenced-ethnic",
   "metadata": {},
   "outputs": [],
   "source": [
    "src_tokenizer = Tokenizer() # 토크나이저 정의\n",
    "src_tokenizer.fit_on_texts(encoder_input_train) # 입력된 데이터로부터 단어 집합 생성"
   ]
  },
  {
   "cell_type": "code",
   "execution_count": 28,
   "id": "essential-manor",
   "metadata": {},
   "outputs": [
    {
     "name": "stdout",
     "output_type": "stream",
     "text": [
      "단어 집합(vocabulary)의 크기 : 69561\n",
      "등장 빈도가 6번 이하인 희귀 단어의 수: 47369\n",
      "단어 집합에서 희귀 단어를 제외시킬 경우의 단어 집합의 크기 22192\n",
      "단어 집합에서 희귀 단어의 비율: 68.09706588461925\n",
      "전체 등장 빈도에서 희귀 단어 등장 빈도 비율: 3.4658550890224604\n"
     ]
    }
   ],
   "source": [
    "threshold = 7\n",
    "total_cnt = len(src_tokenizer.word_index) # 단어의 수\n",
    "rare_cnt = 0 # 등장 빈도수가 threshold보다 작은 단어의 개수를 카운트\n",
    "total_freq = 0 # 훈련 데이터의 전체 단어 빈도수 총 합\n",
    "rare_freq = 0 # 등장 빈도수가 threshold보다 작은 단어의 등장 빈도수의 총 합\n",
    "\n",
    "# 단어와 빈도수의 쌍(pair)을 key와 value로 받는다.\n",
    "for key, value in src_tokenizer.word_counts.items():\n",
    "    total_freq = total_freq + value\n",
    "\n",
    "    # 단어의 등장 빈도수가 threshold보다 작으면\n",
    "    if(value < threshold):\n",
    "        rare_cnt = rare_cnt + 1\n",
    "        rare_freq = rare_freq + value\n",
    "\n",
    "print('단어 집합(vocabulary)의 크기 :', total_cnt)\n",
    "print('등장 빈도가 %s번 이하인 희귀 단어의 수: %s'%(threshold - 1, rare_cnt))\n",
    "print('단어 집합에서 희귀 단어를 제외시킬 경우의 단어 집합의 크기 %s'%(total_cnt - rare_cnt))\n",
    "print(\"단어 집합에서 희귀 단어의 비율:\", (rare_cnt / total_cnt)*100)\n",
    "print(\"전체 등장 빈도에서 희귀 단어 등장 빈도 비율:\", (rare_freq / total_freq)*100)"
   ]
  },
  {
   "cell_type": "code",
   "execution_count": 29,
   "id": "documentary-planner",
   "metadata": {},
   "outputs": [],
   "source": [
    "src_vocab = 20000\n",
    "src_tokenizer = Tokenizer(num_words=src_vocab) # 단어 집합의 크기를 20,000으로 제한\n",
    "src_tokenizer.fit_on_texts(encoder_input_train) # 단어 집합 재생성"
   ]
  },
  {
   "cell_type": "code",
   "execution_count": 30,
   "id": "blank-supervisor",
   "metadata": {},
   "outputs": [
    {
     "name": "stdout",
     "output_type": "stream",
     "text": [
      "[[602, 220, 248, 965, 563, 648, 372, 3, 2638, 517, 7, 602, 631, 157, 504, 1150, 1995, 3673, 1117, 157, 563, 83, 1995, 213, 16697, 7, 236, 759, 3203, 157, 2638, 157, 517], [9, 60, 90, 67, 15967, 6735, 504, 59, 904, 9, 1307, 4377, 4717, 157, 725, 15967, 3353, 9, 750, 3353, 1375, 2579, 156, 3110, 504, 4397], [359, 16, 1786, 1204, 2756, 1180, 5, 16, 122, 40, 147, 2308, 359, 675, 8399, 10958, 1, 60, 125, 1204, 128, 191, 10958, 1, 40, 1180, 245, 16, 1204, 1439, 338, 147, 2308, 2901, 3723, 21, 341, 19]]\n"
     ]
    }
   ],
   "source": [
    "# 텍스트 시퀀스를 정수 시퀀스로 변환\n",
    "encoder_input_train = src_tokenizer.texts_to_sequences(encoder_input_train) \n",
    "encoder_input_test = src_tokenizer.texts_to_sequences(encoder_input_test)\n",
    "\n",
    "# 잘 진행되었는지 샘플 출력\n",
    "print(encoder_input_train[:3])"
   ]
  },
  {
   "cell_type": "code",
   "execution_count": 31,
   "id": "incorporate-exposure",
   "metadata": {},
   "outputs": [],
   "source": [
    "tar_tokenizer = Tokenizer()\n",
    "tar_tokenizer.fit_on_texts(decoder_input_train)"
   ]
  },
  {
   "cell_type": "code",
   "execution_count": 32,
   "id": "psychological-fountain",
   "metadata": {},
   "outputs": [
    {
     "name": "stdout",
     "output_type": "stream",
     "text": [
      "단어 집합(vocabulary)의 크기 : 30049\n",
      "등장 빈도가 5번 이하인 희귀 단어의 수: 19628\n",
      "단어 집합에서 희귀 단어를 제외시킬 경우의 단어 집합의 크기 10421\n",
      "단어 집합에서 희귀 단어의 비율: 65.31997737029518\n",
      "전체 등장 빈도에서 희귀 단어 등장 빈도 비율: 4.635034422791421\n"
     ]
    }
   ],
   "source": [
    "threshold = 6\n",
    "total_cnt = len(tar_tokenizer.word_index) # 단어의 수\n",
    "rare_cnt = 0 # 등장 빈도수가 threshold보다 작은 단어의 개수를 카운트\n",
    "total_freq = 0 # 훈련 데이터의 전체 단어 빈도수 총 합\n",
    "rare_freq = 0 # 등장 빈도수가 threshold보다 작은 단어의 등장 빈도수의 총 합\n",
    "\n",
    "# 단어와 빈도수의 쌍(pair)을 key와 value로 받는다.\n",
    "for key, value in tar_tokenizer.word_counts.items():\n",
    "    total_freq = total_freq + value\n",
    "\n",
    "    # 단어의 등장 빈도수가 threshold보다 작으면\n",
    "    if(value < threshold):\n",
    "        rare_cnt = rare_cnt + 1\n",
    "        rare_freq = rare_freq + value\n",
    "\n",
    "print('단어 집합(vocabulary)의 크기 :', total_cnt)\n",
    "print('등장 빈도가 %s번 이하인 희귀 단어의 수: %s'%(threshold - 1, rare_cnt))\n",
    "print('단어 집합에서 희귀 단어를 제외시킬 경우의 단어 집합의 크기 %s'%(total_cnt - rare_cnt))\n",
    "print(\"단어 집합에서 희귀 단어의 비율:\", (rare_cnt / total_cnt)*100)\n",
    "print(\"전체 등장 빈도에서 희귀 단어 등장 빈도 비율:\", (rare_freq / total_freq)*100)"
   ]
  },
  {
   "cell_type": "code",
   "execution_count": 33,
   "id": "african-qatar",
   "metadata": {},
   "outputs": [
    {
     "name": "stdout",
     "output_type": "stream",
     "text": [
      "input\n",
      "input  [[1, 662, 268, 1873, 854, 6, 35, 342, 599, 16, 51, 1536], [1, 1380, 63, 592, 465, 211, 615], [1, 115, 565, 731, 28, 184, 16, 515, 5895, 158], [1, 1424, 2305, 5, 4171, 201], [1, 26, 116, 2921, 1068, 76, 3, 362, 211, 108]]\n",
      "target\n",
      "decoder  [[662, 268, 1873, 854, 6, 35, 342, 599, 16, 51, 1536, 2], [1380, 63, 592, 465, 211, 615, 2], [115, 565, 731, 28, 184, 16, 515, 5895, 158, 2], [1424, 2305, 5, 4171, 201, 2], [26, 116, 2921, 1068, 76, 3, 362, 211, 108, 2]]\n"
     ]
    }
   ],
   "source": [
    "tar_vocab = 8000\n",
    "tar_tokenizer = Tokenizer(num_words=tar_vocab) \n",
    "tar_tokenizer.fit_on_texts(decoder_input_train)\n",
    "tar_tokenizer.fit_on_texts(decoder_target_train)\n",
    "\n",
    "# 텍스트 시퀀스를 정수 시퀀스로 변환\n",
    "decoder_input_train = tar_tokenizer.texts_to_sequences(decoder_input_train) \n",
    "decoder_target_train = tar_tokenizer.texts_to_sequences(decoder_target_train)\n",
    "decoder_input_test = tar_tokenizer.texts_to_sequences(decoder_input_test)\n",
    "decoder_target_test = tar_tokenizer.texts_to_sequences(decoder_target_test)\n",
    "\n",
    "# 잘 변환되었는지 확인\n",
    "print('input')\n",
    "print('input ',decoder_input_train[:5])\n",
    "print('target')\n",
    "print('decoder ',decoder_target_train[:5])"
   ]
  },
  {
   "cell_type": "code",
   "execution_count": 34,
   "id": "broadband-ireland",
   "metadata": {},
   "outputs": [
    {
     "name": "stdout",
     "output_type": "stream",
     "text": [
      "삭제할 훈련 데이터의 개수 : 0\n",
      "삭제할 테스트 데이터의 개수 : 1\n"
     ]
    },
    {
     "name": "stderr",
     "output_type": "stream",
     "text": [
      "/opt/conda/lib/python3.7/site-packages/numpy/core/_asarray.py:83: VisibleDeprecationWarning: Creating an ndarray from ragged nested sequences (which is a list-or-tuple of lists-or-tuples-or ndarrays with different lengths or shapes) is deprecated. If you meant to do this, you must specify 'dtype=object' when creating the ndarray\n",
      "  return array(a, dtype, copy=False, order=order)\n"
     ]
    },
    {
     "name": "stdout",
     "output_type": "stream",
     "text": [
      "훈련 데이터의 개수 : 78612\n",
      "훈련 레이블의 개수 : 78612\n",
      "테스트 데이터의 개수 : 19651\n",
      "테스트 레이블의 개수 : 19651\n"
     ]
    }
   ],
   "source": [
    "drop_train = [index for index, sentence in enumerate(decoder_input_train) if len(sentence) == 1]\n",
    "drop_test = [index for index, sentence in enumerate(decoder_input_test) if len(sentence) == 1]\n",
    "\n",
    "print('삭제할 훈련 데이터의 개수 :', len(drop_train))\n",
    "print('삭제할 테스트 데이터의 개수 :', len(drop_test))\n",
    "\n",
    "encoder_input_train = np.delete(encoder_input_train, drop_train, axis=0)\n",
    "decoder_input_train = np.delete(decoder_input_train, drop_train, axis=0)\n",
    "decoder_target_train = np.delete(decoder_target_train, drop_train, axis=0)\n",
    "\n",
    "encoder_input_test = np.delete(encoder_input_test, drop_test, axis=0)\n",
    "decoder_input_test = np.delete(decoder_input_test, drop_test, axis=0)\n",
    "decoder_target_test = np.delete(decoder_target_test, drop_test, axis=0)\n",
    "\n",
    "print('훈련 데이터의 개수 :', len(encoder_input_train))\n",
    "print('훈련 레이블의 개수 :', len(decoder_input_train))\n",
    "print('테스트 데이터의 개수 :', len(encoder_input_test))\n",
    "print('테스트 레이블의 개수 :', len(decoder_input_test))"
   ]
  },
  {
   "cell_type": "code",
   "execution_count": 35,
   "id": "through-istanbul",
   "metadata": {},
   "outputs": [],
   "source": [
    "encoder_input_train = pad_sequences(encoder_input_train, maxlen=text_max_len, padding='post')\n",
    "encoder_input_test = pad_sequences(encoder_input_test, maxlen=text_max_len, padding='post')\n",
    "decoder_input_train = pad_sequences(decoder_input_train, maxlen=summary_max_len, padding='post')\n",
    "decoder_target_train = pad_sequences(decoder_target_train, maxlen=summary_max_len, padding='post')\n",
    "decoder_input_test = pad_sequences(decoder_input_test, maxlen=summary_max_len, padding='post')\n",
    "decoder_target_test = pad_sequences(decoder_target_test, maxlen=summary_max_len, padding='post')"
   ]
  },
  {
   "cell_type": "code",
   "execution_count": 36,
   "id": "enclosed-seattle",
   "metadata": {},
   "outputs": [
    {
     "name": "stdout",
     "output_type": "stream",
     "text": [
      "WARNING:tensorflow:Layer lstm will not use cuDNN kernel since it doesn't meet the cuDNN kernel criteria. It will use generic GPU kernel as fallback when running on GPU\n",
      "WARNING:tensorflow:Layer lstm_1 will not use cuDNN kernel since it doesn't meet the cuDNN kernel criteria. It will use generic GPU kernel as fallback when running on GPU\n",
      "WARNING:tensorflow:Layer lstm_2 will not use cuDNN kernel since it doesn't meet the cuDNN kernel criteria. It will use generic GPU kernel as fallback when running on GPU\n"
     ]
    }
   ],
   "source": [
    "from tensorflow.keras.layers import Input, LSTM, Embedding, Dense, Concatenate\n",
    "from tensorflow.keras.models import Model\n",
    "from tensorflow.keras.callbacks import EarlyStopping, ModelCheckpoint\n",
    "\n",
    "\n",
    "# 인코더 설계 시작\n",
    "embedding_dim = 128\n",
    "hidden_size = 256\n",
    "\n",
    "# 인코더\n",
    "encoder_inputs = Input(shape=(text_max_len,))\n",
    "\n",
    "# 인코더의 임베딩 층\n",
    "enc_emb = Embedding(src_vocab, embedding_dim)(encoder_inputs)\n",
    "\n",
    "# 인코더의 LSTM 1\n",
    "encoder_lstm1 = LSTM(hidden_size, return_sequences=True, return_state=True ,dropout = 0.4, recurrent_dropout = 0.4)\n",
    "encoder_output1, state_h1, state_c1 = encoder_lstm1(enc_emb)\n",
    "\n",
    "# 인코더의 LSTM 2\n",
    "encoder_lstm2 = LSTM(hidden_size, return_sequences=True, return_state=True, dropout=0.4, recurrent_dropout=0.4)\n",
    "encoder_output2, state_h2, state_c2 = encoder_lstm2(encoder_output1)\n",
    "\n",
    "# 인코더의 LSTM 3\n",
    "encoder_lstm3 = LSTM(hidden_size, return_state=True, return_sequences=True, dropout=0.4, recurrent_dropout=0.4)\n",
    "encoder_outputs, state_h, state_c= encoder_lstm3(encoder_output2)"
   ]
  },
  {
   "cell_type": "code",
   "execution_count": 37,
   "id": "present-insider",
   "metadata": {},
   "outputs": [
    {
     "name": "stdout",
     "output_type": "stream",
     "text": [
      "WARNING:tensorflow:Layer lstm_3 will not use cuDNN kernel since it doesn't meet the cuDNN kernel criteria. It will use generic GPU kernel as fallback when running on GPU\n"
     ]
    }
   ],
   "source": [
    "# 디코더 설계\n",
    "decoder_inputs = Input(shape=(None,))\n",
    "\n",
    "# 디코더의 임베딩 층\n",
    "dec_emb_layer = Embedding(tar_vocab, embedding_dim)\n",
    "dec_emb = dec_emb_layer(decoder_inputs)\n",
    "\n",
    "# 디코더의 LSTM\n",
    "decoder_lstm = LSTM(hidden_size, return_sequences=True, return_state=True, dropout=0.4, recurrent_dropout=0.2)\n",
    "decoder_outputs, _, _ = decoder_lstm(dec_emb, initial_state=[state_h, state_c])"
   ]
  },
  {
   "cell_type": "code",
   "execution_count": 38,
   "id": "regular-grave",
   "metadata": {},
   "outputs": [
    {
     "name": "stdout",
     "output_type": "stream",
     "text": [
      "Model: \"model\"\n",
      "__________________________________________________________________________________________________\n",
      "Layer (type)                    Output Shape         Param #     Connected to                     \n",
      "==================================================================================================\n",
      "input_1 (InputLayer)            [(None, 47)]         0                                            \n",
      "__________________________________________________________________________________________________\n",
      "embedding (Embedding)           (None, 47, 128)      2560000     input_1[0][0]                    \n",
      "__________________________________________________________________________________________________\n",
      "lstm (LSTM)                     [(None, 47, 256), (N 394240      embedding[0][0]                  \n",
      "__________________________________________________________________________________________________\n",
      "input_2 (InputLayer)            [(None, None)]       0                                            \n",
      "__________________________________________________________________________________________________\n",
      "lstm_1 (LSTM)                   [(None, 47, 256), (N 525312      lstm[0][0]                       \n",
      "__________________________________________________________________________________________________\n",
      "embedding_1 (Embedding)         (None, None, 128)    1024000     input_2[0][0]                    \n",
      "__________________________________________________________________________________________________\n",
      "lstm_2 (LSTM)                   [(None, 47, 256), (N 525312      lstm_1[0][0]                     \n",
      "__________________________________________________________________________________________________\n",
      "lstm_3 (LSTM)                   [(None, None, 256),  394240      embedding_1[0][0]                \n",
      "                                                                 lstm_2[0][1]                     \n",
      "                                                                 lstm_2[0][2]                     \n",
      "__________________________________________________________________________________________________\n",
      "dense (Dense)                   (None, None, 8000)   2056000     lstm_3[0][0]                     \n",
      "==================================================================================================\n",
      "Total params: 7,479,104\n",
      "Trainable params: 7,479,104\n",
      "Non-trainable params: 0\n",
      "__________________________________________________________________________________________________\n"
     ]
    }
   ],
   "source": [
    "# 디코더의 출력층\n",
    "decoder_softmax_layer = Dense(tar_vocab, activation='softmax')\n",
    "decoder_softmax_outputs = decoder_softmax_layer(decoder_outputs) \n",
    "\n",
    "# 모델 정의\n",
    "model = Model([encoder_inputs, decoder_inputs], decoder_softmax_outputs)\n",
    "model.summary()"
   ]
  },
  {
   "cell_type": "markdown",
   "id": "compressed-trailer",
   "metadata": {},
   "source": [
    "## Step 3. 어텐션 메커니즘 사용하기 (추상적 요약)"
   ]
  },
  {
   "cell_type": "code",
   "execution_count": 39,
   "id": "solved-python",
   "metadata": {},
   "outputs": [],
   "source": [
    "urllib.request.urlretrieve(\"https://raw.githubusercontent.com/thushv89/attention_keras/master/src/layers/attention.py\", filename=\"attention.py\")\n",
    "from attention import AttentionLayer"
   ]
  },
  {
   "cell_type": "code",
   "execution_count": 40,
   "id": "clean-bibliography",
   "metadata": {
    "scrolled": false
   },
   "outputs": [
    {
     "name": "stdout",
     "output_type": "stream",
     "text": [
      "Model: \"model_1\"\n",
      "__________________________________________________________________________________________________\n",
      "Layer (type)                    Output Shape         Param #     Connected to                     \n",
      "==================================================================================================\n",
      "input_1 (InputLayer)            [(None, 47)]         0                                            \n",
      "__________________________________________________________________________________________________\n",
      "embedding (Embedding)           (None, 47, 128)      2560000     input_1[0][0]                    \n",
      "__________________________________________________________________________________________________\n",
      "lstm (LSTM)                     [(None, 47, 256), (N 394240      embedding[0][0]                  \n",
      "__________________________________________________________________________________________________\n",
      "input_2 (InputLayer)            [(None, None)]       0                                            \n",
      "__________________________________________________________________________________________________\n",
      "lstm_1 (LSTM)                   [(None, 47, 256), (N 525312      lstm[0][0]                       \n",
      "__________________________________________________________________________________________________\n",
      "embedding_1 (Embedding)         (None, None, 128)    1024000     input_2[0][0]                    \n",
      "__________________________________________________________________________________________________\n",
      "lstm_2 (LSTM)                   [(None, 47, 256), (N 525312      lstm_1[0][0]                     \n",
      "__________________________________________________________________________________________________\n",
      "lstm_3 (LSTM)                   [(None, None, 256),  394240      embedding_1[0][0]                \n",
      "                                                                 lstm_2[0][1]                     \n",
      "                                                                 lstm_2[0][2]                     \n",
      "__________________________________________________________________________________________________\n",
      "attention_layer (AttentionLayer ((None, None, 256),  131328      lstm_2[0][0]                     \n",
      "                                                                 lstm_3[0][0]                     \n",
      "__________________________________________________________________________________________________\n",
      "concat_layer (Concatenate)      (None, None, 512)    0           lstm_3[0][0]                     \n",
      "                                                                 attention_layer[0][0]            \n",
      "__________________________________________________________________________________________________\n",
      "dense_1 (Dense)                 (None, None, 8000)   4104000     concat_layer[0][0]               \n",
      "==================================================================================================\n",
      "Total params: 9,658,432\n",
      "Trainable params: 9,658,432\n",
      "Non-trainable params: 0\n",
      "__________________________________________________________________________________________________\n"
     ]
    }
   ],
   "source": [
    "# 어텐션 층(어텐션 함수)\n",
    "attn_layer = AttentionLayer(name='attention_layer')\n",
    "# 인코더와 디코더의 모든 time step의 hidden state를 어텐션 층에 전달하고 결과를 리턴\n",
    "attn_out, attn_states = attn_layer([encoder_outputs, decoder_outputs])\n",
    "\n",
    "# 어텐션의 결과와 디코더의 hidden state들을 연결\n",
    "decoder_concat_input = Concatenate(axis=-1, name='concat_layer')([decoder_outputs, attn_out])\n",
    "\n",
    "# 디코더의 출력층\n",
    "decoder_softmax_layer = Dense(tar_vocab, activation='softmax')\n",
    "decoder_softmax_outputs = decoder_softmax_layer(decoder_concat_input)\n",
    "\n",
    "# 모델 정의\n",
    "model = Model([encoder_inputs, decoder_inputs], decoder_softmax_outputs)\n",
    "model.summary()"
   ]
  },
  {
   "cell_type": "code",
   "execution_count": 66,
   "id": "ceramic-sauce",
   "metadata": {},
   "outputs": [
    {
     "name": "stdout",
     "output_type": "stream",
     "text": [
      "Epoch 1/50\n",
      "308/308 [==============================] - 274s 849ms/step - loss: 5.1078 - val_loss: 4.3445\n",
      "Epoch 2/50\n",
      "308/308 [==============================] - 259s 843ms/step - loss: 4.2713 - val_loss: 4.0420\n",
      "Epoch 3/50\n",
      "308/308 [==============================] - 260s 845ms/step - loss: 3.9325 - val_loss: 3.7906\n",
      "Epoch 4/50\n",
      "308/308 [==============================] - 260s 843ms/step - loss: 3.6832 - val_loss: 3.6288\n",
      "Epoch 5/50\n",
      "308/308 [==============================] - 260s 845ms/step - loss: 3.5072 - val_loss: 3.5067\n",
      "Epoch 6/50\n",
      "308/308 [==============================] - 260s 844ms/step - loss: 3.3610 - val_loss: 3.4030\n",
      "Epoch 7/50\n",
      "308/308 [==============================] - 260s 845ms/step - loss: 3.2335 - val_loss: 3.3420\n",
      "Epoch 8/50\n",
      "308/308 [==============================] - 259s 842ms/step - loss: 3.1200 - val_loss: 3.2667\n",
      "Epoch 9/50\n",
      "308/308 [==============================] - 260s 845ms/step - loss: 3.0246 - val_loss: 3.2123\n",
      "Epoch 10/50\n",
      "308/308 [==============================] - 259s 842ms/step - loss: 2.9385 - val_loss: 3.1754\n",
      "Epoch 11/50\n",
      "308/308 [==============================] - 261s 849ms/step - loss: 2.8599 - val_loss: 3.1194\n",
      "Epoch 12/50\n",
      "308/308 [==============================] - 260s 845ms/step - loss: 2.7884 - val_loss: 3.1010\n",
      "Epoch 13/50\n",
      "308/308 [==============================] - 266s 863ms/step - loss: 2.7265 - val_loss: 3.0572\n",
      "Epoch 14/50\n",
      "308/308 [==============================] - 261s 847ms/step - loss: 2.6740 - val_loss: 3.0366\n",
      "Epoch 15/50\n",
      "308/308 [==============================] - 260s 846ms/step - loss: 2.6222 - val_loss: 3.0192\n",
      "Epoch 16/50\n",
      "308/308 [==============================] - 260s 843ms/step - loss: 2.5743 - val_loss: 3.0006\n",
      "Epoch 17/50\n",
      "308/308 [==============================] - 260s 845ms/step - loss: 2.5275 - val_loss: 2.9837\n",
      "Epoch 18/50\n",
      "308/308 [==============================] - 259s 843ms/step - loss: 2.4816 - val_loss: 2.9811\n",
      "Epoch 19/50\n",
      "308/308 [==============================] - 262s 852ms/step - loss: 2.4475 - val_loss: 2.9557\n",
      "Epoch 20/50\n",
      "308/308 [==============================] - 265s 859ms/step - loss: 2.4067 - val_loss: 2.9579\n",
      "Epoch 21/50\n",
      "308/308 [==============================] - 261s 849ms/step - loss: 2.3708 - val_loss: 2.9420\n",
      "Epoch 22/50\n",
      "308/308 [==============================] - 260s 843ms/step - loss: 2.3407 - val_loss: 2.9373\n",
      "Epoch 23/50\n",
      "308/308 [==============================] - 260s 844ms/step - loss: 2.3077 - val_loss: 2.9271\n",
      "Epoch 24/50\n",
      "308/308 [==============================] - 262s 850ms/step - loss: 2.2814 - val_loss: 2.9268\n",
      "Epoch 25/50\n",
      "308/308 [==============================] - 266s 863ms/step - loss: 2.2516 - val_loss: 2.9262\n",
      "Epoch 26/50\n",
      "308/308 [==============================] - 260s 845ms/step - loss: 2.2252 - val_loss: 2.9132\n",
      "Epoch 27/50\n",
      "308/308 [==============================] - 260s 845ms/step - loss: 2.1998 - val_loss: 2.9323\n",
      "Epoch 28/50\n",
      "308/308 [==============================] - 259s 842ms/step - loss: 2.1807 - val_loss: 2.9144\n",
      "Epoch 00028: early stopping\n"
     ]
    }
   ],
   "source": [
    "model.compile(optimizer='rmsprop', loss='sparse_categorical_crossentropy')\n",
    "es = EarlyStopping(monitor='val_loss', patience=2, verbose=1)\n",
    "history = model.fit(x=[encoder_input_train, decoder_input_train], y=decoder_target_train, \\\n",
    "          validation_data=([encoder_input_test, decoder_input_test], decoder_target_test), \\\n",
    "          batch_size=256, callbacks=[es], epochs=50)"
   ]
  },
  {
   "cell_type": "code",
   "execution_count": 67,
   "id": "demanding-charles",
   "metadata": {},
   "outputs": [
    {
     "data": {
      "image/png": "[encoded data removed]",
      "text/plain": [
       "<Figure size 432x288 with 1 Axes>"
      ]
     },
     "metadata": {
      "needs_background": "light"
     },
     "output_type": "display_data"
    }
   ],
   "source": [
    "plt.plot(history.history['loss'], label='train')\n",
    "plt.plot(history.history['val_loss'], label='test')\n",
    "plt.legend()\n",
    "plt.show()"
   ]
  },
  {
   "cell_type": "code",
   "execution_count": 68,
   "id": "attended-pioneer",
   "metadata": {},
   "outputs": [],
   "source": [
    "src_index_to_word = src_tokenizer.index_word # 원문 단어 집합에서 정수 -> 단어를 얻음\n",
    "tar_word_to_index = tar_tokenizer.word_index # 요약 단어 집합에서 단어 -> 정수를 얻음\n",
    "tar_index_to_word = tar_tokenizer.index_word # 요약 단어 집합에서 정수 -> 단어를 얻음"
   ]
  },
  {
   "cell_type": "code",
   "execution_count": 69,
   "id": "unnecessary-classics",
   "metadata": {},
   "outputs": [],
   "source": [
    "# 인코더 설계\n",
    "encoder_model = Model(inputs=encoder_inputs, outputs=[encoder_outputs, state_h, state_c])\n",
    "\n",
    "# 이전 시점의 상태들을 저장하는 텐서\n",
    "decoder_state_input_h = Input(shape=(hidden_size,))\n",
    "decoder_state_input_c = Input(shape=(hidden_size,))\n",
    "\n",
    "dec_emb2 = dec_emb_layer(decoder_inputs)\n",
    "\n",
    "# 문장의 다음 단어를 예측하기 위해서 초기 상태(initial_state)를 이전 시점의 상태로 사용. 이는 뒤의 함수 decode_sequence()에 구현\n",
    "# 훈련 과정에서와 달리 LSTM의 리턴하는 은닉 상태와 셀 상태인 state_h와 state_c를 버리지 않음.\n",
    "decoder_outputs2, state_h2, state_c2 = decoder_lstm(dec_emb2, initial_state=[decoder_state_input_h, decoder_state_input_c])"
   ]
  },
  {
   "cell_type": "code",
   "execution_count": 70,
   "id": "daily-lancaster",
   "metadata": {},
   "outputs": [],
   "source": [
    "# 어텐션 함수\n",
    "decoder_hidden_state_input = Input(shape=(text_max_len, hidden_size))\n",
    "attn_out_inf, attn_states_inf = attn_layer([decoder_hidden_state_input, decoder_outputs2])\n",
    "decoder_inf_concat = Concatenate(axis=-1, name='concat')([decoder_outputs2, attn_out_inf])\n",
    "\n",
    "# 디코더의 출력층\n",
    "decoder_outputs2 = decoder_softmax_layer(decoder_inf_concat) \n",
    "\n",
    "# 최종 디코더 모델\n",
    "decoder_model = Model(\n",
    "    [decoder_inputs] + [decoder_hidden_state_input,decoder_state_input_h, decoder_state_input_c],\n",
    "    [decoder_outputs2] + [state_h2, state_c2])"
   ]
  },
  {
   "cell_type": "code",
   "execution_count": 71,
   "id": "heavy-pregnancy",
   "metadata": {},
   "outputs": [],
   "source": [
    "def decode_sequence(input_seq):\n",
    "    # 입력으로부터 인코더의 상태를 얻음\n",
    "    e_out, e_h, e_c = encoder_model.predict(input_seq)\n",
    "\n",
    "     # <SOS>에 해당하는 토큰 생성\n",
    "    target_seq = np.zeros((1,1))\n",
    "    target_seq[0, 0] = tar_word_to_index['sostoken']\n",
    "\n",
    "    stop_condition = False\n",
    "    decoded_sentence = ''\n",
    "    while not stop_condition: # stop_condition이 True가 될 때까지 루프 반복\n",
    "\n",
    "        output_tokens, h, c = decoder_model.predict([target_seq] + [e_out, e_h, e_c])\n",
    "        sampled_token_index = np.argmax(output_tokens[0, -1, :])\n",
    "        sampled_token = tar_index_to_word[sampled_token_index]\n",
    "\n",
    "        if (sampled_token!='eostoken'):\n",
    "            decoded_sentence += ' '+sampled_token\n",
    "\n",
    "        #  <eos>에 도달하거나 최대 길이를 넘으면 중단.\n",
    "        if (sampled_token == 'eostoken'  or len(decoded_sentence.split()) >= (summary_max_len-1)):\n",
    "            stop_condition = True\n",
    "\n",
    "        # 길이가 1인 타겟 시퀀스를 업데이트\n",
    "        target_seq = np.zeros((1,1))\n",
    "        target_seq[0, 0] = sampled_token_index\n",
    "\n",
    "        # 상태를 업데이트 합니다.\n",
    "        e_h, e_c = h, c\n",
    "\n",
    "    return decoded_sentence"
   ]
  },
  {
   "cell_type": "code",
   "execution_count": 72,
   "id": "balanced-yacht",
   "metadata": {},
   "outputs": [],
   "source": [
    "# 원문의 정수 시퀀스를 텍스트 시퀀스로 변환\n",
    "def seq2text(input_seq):\n",
    "    temp=''\n",
    "    for i in input_seq:\n",
    "        if (i!=0):\n",
    "            temp = temp + src_index_to_word[i]+' '\n",
    "    return temp\n",
    "\n",
    "# 요약문의 정수 시퀀스를 텍스트 시퀀스로 변환\n",
    "def seq2summary(input_seq):\n",
    "    temp=''\n",
    "    for i in input_seq:\n",
    "        if ((i!=0 and i!=tar_word_to_index['sostoken']) and i!=tar_word_to_index['eostoken']):\n",
    "            temp = temp + tar_index_to_word[i] + ' '\n",
    "    return temp"
   ]
  },
  {
   "cell_type": "markdown",
   "id": "forbidden-confidence",
   "metadata": {},
   "source": [
    "## Step 4. 실제 결과와 요약문 비교하기 (추상적 요약)"
   ]
  },
  {
   "cell_type": "code",
   "execution_count": 73,
   "id": "exposed-temperature",
   "metadata": {},
   "outputs": [
    {
     "name": "stdout",
     "output_type": "stream",
     "text": [
      "원문 : ayurveda products including items baba ramdev patanjali found substandard quality haridwar ayurveda office rti reply revealed samples collected including patanjali divya amla juice failed test uttarakhand government lab report said patanjali md acharya balkrishna denied report \n",
      "실제 요약 : ramdev patanjali products fail uttarakhand quality test \n",
      "예측 요약 :  patanjali ramdev patanjali to be paid cr in\n",
      "\n",
      "\n",
      "원문 : himachal pradesh government directed schools ensure teachers dress formally workplace observed teachers dress casually leave good impression children said director higher education department added plan introduce uniforms teachers particularly schools affiliated himachal pradesh board \n",
      "실제 요약 : himachal pradesh government issues dress code for teachers \n",
      "예측 요약 :  govt schools to wear girls at least in schools\n",
      "\n",
      "\n",
      "원문 : federal judge us sentenced year old george eight months jail hacking icloud accounts including actress jennifer lawrence stealing nude photos lawrence earlier said invasion equivalent sex crime george posed apple personnel tricked celebrities sharing password login information \n",
      "실제 요약 : hacker jailed for stealing jennifer lawrence nude pics \n",
      "예측 요약 :  us judge jailed for sending sex to hurricane porn\n",
      "\n",
      "\n",
      "원문 : year old bride jumped first floor house caught fire due lpg cylinder blast uttar pradesh ghaziabad monday fire spread reportedly least people inside house bride escaped fractured leg three women suffered minor burns \n",
      "실제 요약 : up bride jumps off roof of house after it catches fire \n",
      "예측 요약 :  baby falls on fire in delhi after falling into building\n",
      "\n",
      "\n",
      "원문 : former bjp mp ram vilas said construction ram mandir ayodhya begin year mosque built lucknow people hindu muslim community coming together purpose added india muslim personal law board member khalid rashid raised objections former bjp mp remark \n",
      "실제 요약 : ram mandir construction will begin this year former bjp mp \n",
      "예측 요약 :  ram mandir construction should be built in ayodhya bjp mp\n",
      "\n",
      "\n",
      "원문 : us based wellness startup become unicorn raised million venture funding round pre money valuation billion confirmed growth stage investor led round participation existing investors founded startup targeted males offers hair loss products erectile dysfunction medication among others \n",
      "실제 요약 : us startup becomes unicorn after raising \n",
      "예측 요약 :  startup raises mn from amazon valuation\n",
      "\n",
      "\n",
      "원문 : microsoft co founder bill gates friday joined photo sharing platform instagram gaining followers day first post included pictures working bill melinda gates foundation hello tanzania sharing photos adventures instagram hope follow along post read \n",
      "실제 요약 : microsoft co founder bill gates joins instagram \n",
      "예측 요약 :  bill gates shares picture with his first time on instagram\n",
      "\n",
      "\n",
      "원문 : railway board chairman ak mittal advised passengers carry home cooked food trains amid ongoing reports unfit food served trains carry home cooked food quality wise alternative food said added base kitchens set ensure quality food operational within year \n",
      "실제 요약 : carry home food on trains railway board chairman \n",
      "예측 요약 :  railways to get food to food safety in mumbai\n",
      "\n",
      "\n",
      "원문 : farmers gujarat sought right die state government gujarat power corporation limited trying forcibly acquire land farmers body member said letters pm narendra modi farmers asked army kill forced acquisition making feel like terrorists \n",
      "실제 요약 : guj farmers seek right to die over forced evacuation \n",
      "예측 요약 :  farmers committed to farmers suicide in taka govt\n",
      "\n",
      "\n",
      "원문 : around days committing crime man arrested throwing four daughters moving train uttar pradesh travelling bihar jammu kashmir three girls survived found tracks one succumbed injuries man failed throw fifth daughter \n",
      "실제 요약 : man arrested for throwing four daughters off moving train \n",
      "예측 요약 :  man arrested after falling off train in up in up\n",
      "\n",
      "\n",
      "원문 : homemade bomb found hijacked truck used kill four people stockholm sweden according reports police officials said device found bag detonated adding attacker burned attacker national known police isis propaganda laptop \n",
      "실제 요약 : bomb found in truck used in attack \n",
      "예측 요약 :  bomb attack in nigeria\n",
      "\n",
      "\n",
      "원문 : malaika arora khan appearing song vishal bhardwaj upcoming film pataakha song titled hello hello written composed vishal bhardwaj sung rekha bhardwaj talking song co producer ajay kapoor said song tailor made malaika pataakha stars sanya malhotra release september \n",
      "실제 요약 : malaika to appear in song in vishal bhardwaj \n",
      "예측 요약 :  malaika malaika malaika malaika on song from joining\n",
      "\n",
      "\n",
      "원문 : kerala police issued advisory public asking refrain attending calls numbers start appear suspicious comes people reported talk time significantly reduced calling back numbers numbers appear bolivia code \n",
      "실제 요약 : do not pick calls from numbers starting with kerala police \n",
      "예측 요약 :  kerala police to use of online posts\n",
      "\n",
      "\n",
      "원문 : biological wildlife recent decades shows sixth mass extinction earth history already underway per researchers nearly half mammals surveyed lost distribution scientists attributed increased loss wildlife human habitat destruction climate change among factors \n",
      "실제 요약 : earth sixth mass extinction event already study \n",
      "예측 요약 :  dinosaur species in us\n",
      "\n",
      "\n",
      "원문 : tennis grass court grand slam wimbledon ready fine tennis players disrespecting ball kids spanish tennis player fernando faced criticism ball kid bringing towel quickly enough needs mutual respect two entities wimbledon commercial director mick said relationship players ball kids \n",
      "실제 요약 : wimbledon ready to fine players for ball kids \n",
      "예측 요약 :  wimbledon tennis player fined for wimbledon match\n",
      "\n",
      "\n",
      "원문 : anupam kher said good cinema entertainment also medium social change important independent filmmakers work limited budgets sole focus make good cinema encouraged added kher acted films far known starring films like wednesday \n",
      "실제 요약 : good cinema is medium for social change anupam kher \n",
      "예측 요약 :  anupam kher to make films for hindi films\n",
      "\n",
      "\n",
      "원문 : british viceroy lord transferred power pakistan august could present new delhi next day india independence day celebrations according another theory pakistan decided celebrate independence day august coincided th day ramadan auspicious date islamic lunar calendar \n",
      "실제 요약 : why does pak celebrate day on aug day before india \n",
      "예측 요약 :  lord shiva to be held in pak for pak border\n",
      "\n",
      "\n",
      "원문 : us tuesday threatened impose additional sanctions china prevent accessing us international dollar market fails follow historic sanctions recently passed un north korea sanctions ban north korea textile exports impose cap oil imports nuclear ballistic missile programme \n",
      "실제 요약 : us threatens to cut china access to int dollar market \n",
      "예측 요약 :  us imposes sanctions on north korea sanctions\n",
      "\n",
      "\n",
      "원문 : president ram nath kovind recent event said experts believe sanskrit language appropriate writing algorithms machine learning artificial intelligence adding sanskrit language knowledge science also said tradition sanskrit literature science effective chapter glorious journey intellectual growth \n",
      "실제 요약 : sanskrit most for machine learning ai president \n",
      "예측 요약 :  ram ka ka ka president kovind\n",
      "\n",
      "\n",
      "원문 : avoid detection us spy satellites pokhran ii nuclear test indian scientists including project lead abdul kalam used false ids dressed army uniforms bomb dug night dug sand shaped like five secretive may dubbed cia biggest failure decade \n",
      "실제 요약 : president abdul kalam once as army man to fool cia \n",
      "예측 요약 :  us nuclear attack images of nuclear attack\n",
      "\n",
      "\n",
      "원문 : manchester united monday defeated everton register first victory three successive draws premier league win united moved back second place league points behind city rivals manchester city host th placed watford tuesday elsewhere defender injury time goal helped liverpool beat burnley \n",
      "실제 요약 : manchester united beat for st league win in games \n",
      "예측 요약 :  man city beat utd to win their first time in pl matches\n",
      "\n",
      "\n",
      "원문 : pakistan based terror outfit lashkar taiba responsible mumbai attack launched online magazine wherein stated tough indian army forces kashmir let common man struggle represents true aspirations people terror outfit spokesperson asserted kashmir specific magazine \n",
      "실제 요약 : let launches magazine says to be tough for indian army \n",
      "예측 요약 :  pak isi claims pak terror attack on terror attack\n",
      "\n",
      "\n",
      "원문 : motorcycle used murder journalist gauri lankesh found senior official maharashtra police anti terrorism squad said saturday people arrested connection murder gauri opening gate house bengaluru two motorcycle borne assailants shot \n",
      "실제 요약 : motorcycle used in gauri lankesh murder found maha \n",
      "예측 요약 :  gauri lankesh murder accused of murder\n",
      "\n",
      "\n",
      "원문 : asked facebook tool let users restrict company using data target advertisements coo sheryl sandberg said would paid product sandberg added different forms opt opt highest level highlighted facebook provide users personal information advertisers \n",
      "실제 요약 : tool to opt out of data being used for ads will be paid fb \n",
      "예측 요약 :  facebook ads users in india payments data facebook\n",
      "\n",
      "\n",
      "원문 : twinkle khanna hrithik roshan farhan akhtar among bollywood personalities took social media wish akshay kumar th birthday ways one happy th tweeted farhan wishing planet fittest half centurion happy wrote director sajid khan meanwhile hrithik tweeted happy birthday akshay kumar keep shining \n",
      "실제 요약 : twinkle hrithik farhan wish akshay kumar on his th day \n",
      "예측 요약 :  twinkle shares pic of saif son vinod khanna\n",
      "\n",
      "\n",
      "원문 : taking jibe bjp accepting rebel congress leaders party congress leader digvijaya singh said bjp making congress instead congress mukt bharat remark came rebel congress leaders joined bjp ahead civic polls delhi \n",
      "실제 요약 : bjp is making congress digvijaya singh \n",
      "예측 요약 :  congress will not be cong leader on cong leader remark\n",
      "\n",
      "\n",
      "원문 : queensland voted favour bill legalise abortion becoming fifth australian state new law women terminate pregnancies request weeks thereafter approval two doctors abortion illegal queensland th century \n",
      "실제 요약 : becomes th australian state to legalise abortion \n",
      "예측 요약 :  bill votes to be banned from ireland for st time\n",
      "\n",
      "\n",
      "원문 : flipkart chief executive officer kalyan krishnamurthy hold position walmart billion investment controlling stake indian commerce major krishnamurthy took position january replacing co founder binny bansal meanwhile sachin bansal leaving startup sell entire stake reported amount billion \n",
      "실제 요약 : to remain flipkart ceo after walmart deal \n",
      "예측 요약 :  flipkart appoints sachin bansal as flipkart binny bansal\n",
      "\n",
      "\n",
      "원문 : accusing centre misusing enforcement directorate threaten karnataka mlas jd leader hd kumaraswamy said narendra modi government wants demolish democracy country request mamata banerjee chandrababu naidu chandrashekar rao mayawati naveen patnaik protect interest country differences must keep aside added \n",
      "실제 요약 : centre ed to threaten karnataka mlas jd \n",
      "예측 요약 :  will not tolerate any of any alliance with pm modi\n",
      "\n",
      "\n",
      "원문 : former software engineer ibm china pleaded guilty stealing proprietary source code company year old pleaded guilty economic espionage theft trade secret stole secrets stint ibm benefit national health family planning commission people republic china \n",
      "실제 요약 : ex ibm employee found guilty of stealing secrets for china \n",
      "예측 요약 :  ex ibm employee charged with stealing phone in us\n",
      "\n",
      "\n",
      "원문 : bitcoin friday averted split two currencies development community supported software upgrade would improve network ability process increasing number transactions miners backed first step implementation new software miners represent computer operators secure public ledger bitcoin transactions \n",
      "실제 요약 : bitcoin avoids split into two digital \n",
      "예측 요약 :  bitcoin exchange announces new currency\n",
      "\n",
      "\n",
      "원문 : technology giant google added feature mobile search united states show celebrities answering users questions form selfie style videos videos pre recorded answers asked questions users feature piloted answers celebrities including priyanka chopra nick jonas \n",
      "실제 요약 : google to show celebs video answers on mobile search in us \n",
      "예측 요약 :  google adds feature to let users share photos of\n",
      "\n",
      "\n",
      "원문 : reacting akshay kumar best actor national film award win rustom airlift user tweeted akshay rustom aamir dangal user wrote akshay wins national award screen patriotism pays another tweet read akshay getting instead aamir gen category people feel everyday competing quota guys \n",
      "실제 요약 : why akshay why not aamir tweets user on national award win \n",
      "예측 요약 :  akshay kumar praises akshay kumar for akshay kumar\n",
      "\n",
      "\n",
      "원문 : kolkata topped list availability across india telecom circles may july period year circle availability followed punjab bihar madhya pradesh odisha jammu kashmir placed last availability \n",
      "실제 요약 : kolkata tops in in india ranked last \n",
      "예측 요약 :  india highest advanced in india in india\n",
      "\n",
      "\n",
      "원문 : john abraham surprised group acid attack survivors cafe run lucknow survivors found abraham sitting removed promising return cafe john said would love come place time cup coffee \n",
      "실제 요약 : john abraham surprises acid attack survivors in lucknow \n",
      "예측 요약 :  john abraham attack victims of the year\n",
      "\n",
      "\n",
      "원문 : police maharashtra raigad booked republic tv editor chief arnab goswami two others charges abetment suicide interior designer killed saturday naik allegedly killed non payment dues amounting lakh owed republic tv naik suicide note named goswami feroz shaikh nitesh \n",
      "실제 요약 : arnab goswami booked after designer kills himself \n",
      "예측 요약 :  fir filed against arnab goswami over loan fraud\n",
      "\n",
      "\n",
      "원문 : world number one rafael nadal thursday defeated diego rain affected match reach french open semi finals th time time french open champion registered four set comeback win dropped first set roland garros since year old french open matches played \n",
      "실제 요약 : time champ nadal reaches french open semis for th time \n",
      "예측 요약 :  nadal nadal nadal to win his grand slam semis in uk\n",
      "\n",
      "\n",
      "원문 : mumbai based dairy startup happy cow dairy raised crore funding clutch angel investors according reports startup founded former dairy business head founded happy cow dairy collects milk dairy farmers stores bulk milk collection centres provides dairy corporations \n",
      "실제 요약 : ex exec dairy firm happy cow raises cr report \n",
      "예측 요약 :  mumbai startup raises crore from\n",
      "\n",
      "\n",
      "원문 : yes bank tuesday said sold stake hospital chain fortis healthcare bank held fortis november added stake sold various tranches recently malaysian group ihh healthcare acquired stake indian hospital chain crore \n",
      "실제 요약 : yes bank sells over stake in fortis healthcare \n",
      "예측 요약 :  yes bank sells stake in fortis for crore\n",
      "\n",
      "\n",
      "원문 : earn interest kotak digital bank account opened time day anywhere anyone opening account require card pan card discriminated basis gender religion language family background occupation interests \n",
      "실제 요약 : earn up to with your kotak digital bank account \n",
      "예측 요약 :  hdfc bank shares lakh aadhaar card for\n",
      "\n",
      "\n",
      "원문 : mexico create new division federal police preserve secure cultural heritage according officials division would recruit officers knowledge art prevent thefts looting cultural artefacts officials said according official figures stolen cultural objects archaeological pieces religious art never recovered \n",
      "실제 요약 : mexico to create new police division to preserve culture \n",
      "예측 요약 :  mexico to get new largest park in new york\n",
      "\n",
      "\n",
      "원문 : delhi commission women chief swati maliwal announced begin indefinite fast tomorrow seeking justice victims unnao kathua rape cases added inspired pm narendra modi protest fast letter pm modi sought laws within six months sentence people death raping minors \n",
      "실제 요약 : dcw chief to fast indefinitely over unnao kathua rape cases \n",
      "예측 요약 :  dcw chief dcw chief to be held in kathua rape cases\n",
      "\n",
      "\n",
      "원문 : appointments committee cabinet curtailed tenure cbi special director rakesh asthana appointed chief bureau civil aviation security asthana three cbi officers tenure cut short immediate effect last week cbi director alok verma moved fire services department following verma announced resignation \n",
      "실제 요약 : after removal from cbi rakesh asthana made aviation security chief \n",
      "예측 요약 :  cbi chief secretary to asthana transferred on cbi chief\n",
      "\n",
      "\n",
      "원문 : bjp mla surendra singh tuesday said prostitutes better character governments least work dance stage take money guarantee officials work taking money added reportedly also urged people thrash government officials ask bribes \n",
      "실제 요약 : are better than govt officials bjp mla \n",
      "예측 요약 :  bjp mla is like like my son says mla\n",
      "\n",
      "\n",
      "원문 : elon musk led electric car making company tesla currently worth billion market value top american carmakers ford general motors interestingly tesla sold nearly vehicles ford general motors sold second quarter ended june tesla currently valuable american car company \n",
      "실제 요약 : tesla worth ford gm despite only of their sales \n",
      "예측 요약 :  tesla shares fall as tesla becomes st tesla in\n",
      "\n",
      "\n",
      "원문 : gujarat topped first ever state wise rankings providing strong ecosystem startups released department industrial policy promotion thursday rankings mentioned karnataka rajasthan odisha kerala top performers gujarat total states three union territories participated exercise official statement said \n",
      "실제 요약 : gujarat tops government first ever state startup rankings \n",
      "예측 요약 :  gujarat becomes st indian bank to fund startups\n",
      "\n",
      "\n",
      "원문 : home minister rajnath singh sunday launched website bharat ke veer facilitate monetary contribution martyred crpf jawans families initiative actor akshay kumar available web portal mobile application funds would managed committee eminent persons officials would disburse need basis \n",
      "실제 요약 : portal launched to donate money to martyred crpf jawans kin \n",
      "예측 요약 :  rajnath singh launches kashmiri soldiers for army\n",
      "\n",
      "\n",
      "원문 : nurse treating nipah virus victim kerala kozhikode died infection monday following outbreak virus central government sent team experts monitor control spread infection virus suspected killed around people state \n",
      "실제 요약 : nurse treating nipah virus victim dies of infection \n",
      "예측 요약 :  virus claims she is nipah virus in kerala\n",
      "\n",
      "\n",
      "원문 : driverless delhi metro train tuesday rammed wall trial run brakes applied time train running magenta line expected inaugurated pm narendra modi december broke boundary kunj depot passengers onboard accident happened \n",
      "실제 요약 : driverless delhi metro train rams into wall during trial run \n",
      "예측 요약 :  delhi metro to get train for speeding train\n",
      "\n",
      "\n",
      "원문 : actor kartik aaryan named katrina kaif asked wants babies adding thing said appearance celebrity stylist shroff show feet stars kartik known roles franchise pyaar ka punchnama film sonu ke titu ki sweety \n",
      "실제 요약 : want babies with katrina as have thing for kartik \n",
      "예측 요약 :  katrina shares from his look from katrina\n",
      "\n",
      "\n"
     ]
    }
   ],
   "source": [
    "for i in range(50, 100):\n",
    "    print(\"원문 :\", seq2text(encoder_input_test[i]))\n",
    "    print(\"실제 요약 :\", seq2summary(decoder_input_test[i]))\n",
    "    print(\"예측 요약 :\", decode_sequence(encoder_input_test[i].reshape(1, text_max_len)))\n",
    "    print(\"\\n\")"
   ]
  },
  {
   "cell_type": "markdown",
   "id": "substantial-democracy",
   "metadata": {},
   "source": [
    "## Step 5. Summa을 이용해서 추출적 요약해보기"
   ]
  },
  {
   "cell_type": "code",
   "execution_count": 74,
   "id": "tropical-emergency",
   "metadata": {},
   "outputs": [],
   "source": [
    "import requests\n",
    "from summa.summarizer import summarize"
   ]
  },
  {
   "cell_type": "code",
   "execution_count": 75,
   "id": "neither-mediterranean",
   "metadata": {},
   "outputs": [
    {
     "name": "stdout",
     "output_type": "stream",
     "text": [
      "kunal shah credit card bill payment platform cred gave users chance win free food swiggy one year pranav kaushik delhi techie bagged reward spending cred coins users get one cred coin per rupee bill paid used avail rewards brands like ixigo bookmyshow ubereats cult fit\n"
     ]
    }
   ],
   "source": [
    "print(data['text'][1])"
   ]
  },
  {
   "cell_type": "code",
   "execution_count": 76,
   "id": "strategic-track",
   "metadata": {},
   "outputs": [
    {
     "name": "stdout",
     "output_type": "stream",
     "text": [
      "Summary:\n",
      "\n"
     ]
    }
   ],
   "source": [
    "text = data['text'][1]\n",
    "print('Summary:')\n",
    "print(summarize(text, words = 6))"
   ]
  },
  {
   "cell_type": "markdown",
   "id": "revolutionary-signature",
   "metadata": {},
   "source": [
    "### 클라우드 서버와 연결이 끊어져서 못했던 부분 마저하고 마무리함.\n",
    "\n",
    "### 회고는 내 마음 속에..."
   ]
  }
 ],
 "metadata": {
  "kernelspec": {
   "display_name": "Python 3",
   "language": "python",
   "name": "python3"
  },
  "language_info": {
   "codemirror_mode": {
    "name": "ipython",
    "version": 3
   },
   "file_extension": ".py",
   "mimetype": "text/x-python",
   "name": "python",
   "nbconvert_exporter": "python",
   "pygments_lexer": "ipython3",
   "version": "3.7.9"
  }
 },
 "nbformat": 4,
 "nbformat_minor": 5
}
